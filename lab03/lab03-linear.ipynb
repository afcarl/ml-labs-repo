{
 "cells": [
  {
   "cell_type": "markdown",
   "metadata": {},
   "source": [
    "# Машинное обучение\n",
    "## ВМК МГУ, весна 2015/2016\n",
    "## Лабораторная работа 1. Линейные модели"
   ]
  },
  {
   "cell_type": "markdown",
   "metadata": {},
   "source": [
    "ФИО: Гарипов Тимур Исмагилевич\n",
    "\n",
    "Группа: 317"
   ]
  },
  {
   "cell_type": "markdown",
   "metadata": {},
   "source": [
    "Данное задание посвящено применению линейных моделей в задачах классификации и регрессии. Вы научитесь:\n",
    "* делать one-hot-кодирование категориальных признаков\n",
    "* обучать логистическую и линейную регрессию\n",
    "* отбирать признаки с помощью LASSO\n",
    "* вычислять метрики качества классификации и регрессии\n",
    "* выбирать лучший классификатор при ограничениях на точность или полноту\n",
    "* калибровать вероятности\n",
    "* реализовывать градиентный спуск (если захотите)\n"
   ]
  },
  {
   "cell_type": "code",
   "execution_count": 1,
   "metadata": {
    "collapsed": true
   },
   "outputs": [],
   "source": [
    "import numpy as np\n",
    "import pandas as pd\n",
    "import matplotlib.pyplot as plt\n",
    "import math\n",
    "%matplotlib inline"
   ]
  },
  {
   "cell_type": "markdown",
   "metadata": {},
   "source": [
    "## Часть 1. Научные гранты в Австралии"
   ]
  },
  {
   "cell_type": "markdown",
   "metadata": {},
   "source": [
    "![](http://imgur.com/cBdDBO3.jpg)\n",
    "\n",
    "В данной части мы будем работать с задачей \"Predict Grant Applications\" (https://www.kaggle.com/c/unimelb/data), где для заявки на грант требуется предсказать, одобрят её или нет. Будем использовать лишь 40 признаков из имеющихся 249. Файлы для работы можно найти по ссылкам:\n",
    "* https://db.tt/iYzRzQYP (обучение)\n",
    "* https://db.tt/NGSHb5Qs (контроль)"
   ]
  },
  {
   "cell_type": "markdown",
   "metadata": {},
   "source": [
    "#### Задание 1\n",
    "Считайте обучающую и контрольную выборки из файлов с помощью pd.read_csv. Выделите целевую переменную (Grant.Status) в отдельный вектор."
   ]
  },
  {
   "cell_type": "code",
   "execution_count": 2,
   "metadata": {
    "collapsed": false
   },
   "outputs": [],
   "source": [
    "data_train = pd.read_csv('./data/unimel_train.csv')\n",
    "data_test = pd.read_csv('./data/unimel_test.csv')\n",
    "y_train = np.array(data_train['Grant.Status'])\n",
    "y_test = np.array(data_test['Grant.Status'])\n",
    "del data_train['Grant.Status']"
   ]
  },
  {
   "cell_type": "markdown",
   "metadata": {},
   "source": [
    "#### Задание 2\n",
    "В этом задании мы приведем данные к виду, пригодному для обучения линейных классификаторов. Для этого вещественные признаки надо отмасштабировать, а категориальные — привести к числовому виду. Также надо устранить пропуски в данных."
   ]
  },
  {
   "cell_type": "markdown",
   "metadata": {},
   "source": [
    "В первую очередь поймем, зачем здесь нужно масштабирование. Нарисуем распределение трех признаков."
   ]
  },
  {
   "cell_type": "code",
   "execution_count": 3,
   "metadata": {
    "collapsed": false
   },
   "outputs": [
    {
     "data": {
      "text/plain": [
       "<matplotlib.axes._subplots.AxesSubplot at 0x7f0d1bf69f90>"
      ]
     },
     "execution_count": 3,
     "metadata": {},
     "output_type": "execute_result"
    },
    {
     "data": {
      "image/png": "[encoded data removed]",
      "text/plain": [
       "<matplotlib.figure.Figure at 0x7f0d1bf64b90>"
      ]
     },
     "metadata": {},
     "output_type": "display_data"
    }
   ],
   "source": [
    "data_train['Number.of.Successful.Grant.1'].hist(bins=20)"
   ]
  },
  {
   "cell_type": "code",
   "execution_count": 4,
   "metadata": {
    "collapsed": false
   },
   "outputs": [
    {
     "data": {
      "text/plain": [
       "<matplotlib.axes._subplots.AxesSubplot at 0x7f0d1c442a50>"
      ]
     },
     "execution_count": 4,
     "metadata": {},
     "output_type": "execute_result"
    },
    {
     "data": {
      "image/png": "[encoded data removed]",
      "text/plain": [
       "<matplotlib.figure.Figure at 0x7f0d1bf64210>"
      ]
     },
     "metadata": {},
     "output_type": "display_data"
    }
   ],
   "source": [
    "data_train['RFCD.Percentage.1'].hist(bins=20)"
   ]
  },
  {
   "cell_type": "code",
   "execution_count": 5,
   "metadata": {
    "collapsed": false
   },
   "outputs": [
    {
     "data": {
      "text/plain": [
       "<matplotlib.axes._subplots.AxesSubplot at 0x7f0d1c35c090>"
      ]
     },
     "execution_count": 5,
     "metadata": {},
     "output_type": "execute_result"
    },
    {
     "data": {
      "image/png": "[encoded data removed]",
      "text/plain": [
       "<matplotlib.figure.Figure at 0x7f0d1bf64090>"
      ]
     },
     "metadata": {},
     "output_type": "display_data"
    }
   ],
   "source": [
    "data_train['Year.of.Birth.1'].hist(bins=20)"
   ]
  },
  {
   "cell_type": "markdown",
   "metadata": {},
   "source": [
    "Какую проблему вы наблюдаете на этих графиках? Как масштабирование поможет её исправить?"
   ]
  },
  {
   "cell_type": "markdown",
   "metadata": {},
   "source": [
    "По построенным гистограммам видно, что признаки измеряются в разных масштабах. Это может негативно сказаться на качестве работы градиентных методов оптимизации. "
   ]
  },
  {
   "cell_type": "markdown",
   "metadata": {},
   "source": [
    "В наших данных есть пропуски. Ответьте на вопросы:\n",
    "1. Сколько всего пропущенных элементов в таблице с обучающей выборкой?\n",
    "2. Сколько объектов имеют хотя бы один пропуск?\n",
    "3. Сколько признаков имеют хотя бы одно пропущенное значение?"
   ]
  },
  {
   "cell_type": "code",
   "execution_count": 6,
   "metadata": {
    "collapsed": false
   },
   "outputs": [
    {
     "name": "stdout",
     "output_type": "stream",
     "text": [
      "1. 26843\n",
      "2. 5879\n",
      "3. 38\n"
     ]
    }
   ],
   "source": [
    "print('1. ' +  str(data_train.isnull().sum().sum()))\n",
    "print('2. ' + str((data_train.isnull().sum(axis=1) > 0).sum()))\n",
    "print('3. ' + str((data_train.isnull().sum() > 0).sum()))"
   ]
  },
  {
   "cell_type": "markdown",
   "metadata": {},
   "source": [
    "Большинство признаков в нашем датасете являются категориальными. Типичным подходом к работе с ними является бинарное, или one-hot-кодирование (также есть подход со счётчиками, который мы уже применяли в прошлых работах). Для начала потренируемся делать бинарное кодирование на трех игрушечных объектах."
   ]
  },
  {
   "cell_type": "code",
   "execution_count": 7,
   "metadata": {
    "collapsed": false
   },
   "outputs": [
    {
     "data": {
      "text/html": [
       "<div>\n",
       "<table border=\"1\" class=\"dataframe\">\n",
       "  <thead>\n",
       "    <tr style=\"text-align: right;\">\n",
       "      <th></th>\n",
       "      <th>City</th>\n",
       "      <th>Weather</th>\n",
       "    </tr>\n",
       "  </thead>\n",
       "  <tbody>\n",
       "    <tr>\n",
       "      <th>0</th>\n",
       "      <td>Msk</td>\n",
       "      <td>good</td>\n",
       "    </tr>\n",
       "    <tr>\n",
       "      <th>1</th>\n",
       "      <td>SPb</td>\n",
       "      <td>bad</td>\n",
       "    </tr>\n",
       "    <tr>\n",
       "      <th>2</th>\n",
       "      <td>Msk</td>\n",
       "      <td>worst</td>\n",
       "    </tr>\n",
       "  </tbody>\n",
       "</table>\n",
       "</div>"
      ],
      "text/plain": [
       "  City Weather\n",
       "0  Msk    good\n",
       "1  SPb     bad\n",
       "2  Msk   worst"
      ]
     },
     "execution_count": 7,
     "metadata": {},
     "output_type": "execute_result"
    }
   ],
   "source": [
    "simple_data = pd.DataFrame({'City': ['Msk', 'SPb', 'Msk'], 'Weather': ['good', 'bad', 'worst']})\n",
    "simple_data.head()"
   ]
  },
  {
   "cell_type": "code",
   "execution_count": 8,
   "metadata": {
    "collapsed": false
   },
   "outputs": [
    {
     "name": "stdout",
     "output_type": "stream",
     "text": [
      "[{'City': 'Msk', 'Weather': 'good'}, {'City': 'SPb', 'Weather': 'bad'}, {'City': 'Msk', 'Weather': 'worst'}]\n"
     ]
    }
   ],
   "source": [
    "# преобразуем каждый объект в dict\n",
    "simple_data_dict = simple_data.T.to_dict().values()\n",
    "print simple_data_dict"
   ]
  },
  {
   "cell_type": "code",
   "execution_count": 9,
   "metadata": {
    "collapsed": false
   },
   "outputs": [
    {
     "data": {
      "text/plain": [
       "array([[ 1.,  0.,  0.,  1.,  0.],\n",
       "       [ 0.,  1.,  1.,  0.,  0.],\n",
       "       [ 1.,  0.,  0.,  0.,  1.]])"
      ]
     },
     "execution_count": 9,
     "metadata": {},
     "output_type": "execute_result"
    }
   ],
   "source": [
    "# делаем one-hot-кодирование\n",
    "from sklearn.feature_extraction import DictVectorizer\n",
    "transformer = DictVectorizer(sparse=False)\n",
    "transformer.fit_transform(simple_data_dict)"
   ]
  },
  {
   "cell_type": "markdown",
   "metadata": {},
   "source": [
    "Реализуйте функцию transform_data, которая принимает на вход DataFrame с признаками, объекты классов StandardScaler и DictVectorizer и булеву переменную is_test (True, если обрабатывает тестовую выборку и False, если обучающую). В функции должны выполняться следующие шаги:\n",
    "1. Замена пропущенных значений на нули для вещественных признаков и на строки 'nan' для категориальных. Используйте для выполнения замены функцию fillna. Имена всех вещественных переменных перечислены в numeric_cols.\n",
    "2. Масштабирование вещественных признаков с помощью StandardScaler (метод fit_transform, если is_test == False, и метод transform в противном случае).\n",
    "3. One-hot-кодирование категориальных признаков с помощью DictVectorizer (метод fit_transform, если is_test == False, и метод transform в противном случае).\n",
    "\n",
    "Метод должен возвращать tuple из трех элементов: преобразованной выборки, объекта StandardScaler и объекта DictVectorizer. Преобразованная выборка должна состоять из масштабированных вещественных признаков и закодированных категориальных (исходные признаки не должны в ней остаться)."
   ]
  },
  {
   "cell_type": "code",
   "execution_count": null,
   "metadata": {
    "collapsed": false
   },
   "outputs": [],
   "source": []
  },
  {
   "cell_type": "code",
   "execution_count": 10,
   "metadata": {
    "collapsed": false
   },
   "outputs": [],
   "source": [
    "def transform_data(data, scaler, transformer, is_test):\n",
    "    numeric_cols = ['RFCD.Percentage.1', 'RFCD.Percentage.2', 'RFCD.Percentage.3', \n",
    "                    'RFCD.Percentage.4', 'RFCD.Percentage.5',\n",
    "                    'SEO.Percentage.1', 'SEO.Percentage.2', 'SEO.Percentage.3',\n",
    "                    'SEO.Percentage.4', 'SEO.Percentage.5',\n",
    "                    'Year.of.Birth.1', 'Number.of.Successful.Grant.1', 'Number.of.Unsuccessful.Grant.1']        \n",
    "    numeric = data[numeric_cols].copy()    \n",
    "    numeric.fillna(0, inplace=True)\n",
    "    \n",
    "    if (not is_test):\n",
    "        numeric = scaler.fit_transform(numeric)\n",
    "    else:\n",
    "        numeric = scaler.transform(numeric)\n",
    "    numeric = np.array(numeric)\n",
    "                \n",
    "    categorial = data[data.columns.difference(numeric_cols)].copy()\n",
    "    categorial.fillna('nan', inplace=True)\n",
    "    categorial = categorial.astype(str)\n",
    "    categorial = categorial.T.to_dict().values()\n",
    "    if (not is_test):\n",
    "        categorial = transformer.fit_transform(categorial)\n",
    "    else:\n",
    "        categorial = transformer.transform(categorial)    \n",
    "    return np.hstack([numeric, categorial]), scaler, transformer                      "
   ]
  },
  {
   "cell_type": "markdown",
   "metadata": {},
   "source": [
    "Применяем функцию к данным:"
   ]
  },
  {
   "cell_type": "code",
   "execution_count": 11,
   "metadata": {
    "collapsed": false
   },
   "outputs": [],
   "source": [
    "from sklearn.preprocessing import StandardScaler\n",
    "scaler = StandardScaler()\n",
    "transformer = DictVectorizer(sparse=False)\n",
    "X, scaler, transformer = transform_data(data_train, scaler, transformer, False)\n",
    "X_test, _, _ = transform_data(data_test, scaler, transformer, True)"
   ]
  },
  {
   "cell_type": "markdown",
   "metadata": {},
   "source": [
    "Сколько признаков у вас получилось после преобразования?"
   ]
  },
  {
   "cell_type": "code",
   "execution_count": 12,
   "metadata": {
    "collapsed": false
   },
   "outputs": [
    {
     "name": "stdout",
     "output_type": "stream",
     "text": [
      "11734\n"
     ]
    }
   ],
   "source": [
    "print X.shape[1]"
   ]
  },
  {
   "cell_type": "markdown",
   "metadata": {},
   "source": [
    "#### Задание 3\n",
    "Подберите лучшее значение параметра регуляризации C для логистической регрессии с L2-регуляризатором (sklearn.linear_model.LogisticRegression) с помощью кросс-валидации по 5 блокам. В качестве метрики качества используйте AUC-ROC. Сетка для перебора указана ниже. По итогам кросс-валидации укажите лучшее значение параметра регуляризации. Обучите классификатор с этим параметром на всей обучающей выборке и найдите качество (AUC-ROC) на тестовой выборке."
   ]
  },
  {
   "cell_type": "code",
   "execution_count": 13,
   "metadata": {
    "collapsed": false
   },
   "outputs": [],
   "source": [
    "from sklearn.cross_validation import KFold\n",
    "cv = KFold(X.shape[0], n_folds=5, shuffle=True, random_state=241)"
   ]
  },
  {
   "cell_type": "code",
   "execution_count": 14,
   "metadata": {
    "collapsed": false
   },
   "outputs": [
    {
     "name": "stderr",
     "output_type": "stream",
     "text": [
      "[Parallel(n_jobs=1)]: Done   1 jobs       | elapsed:    0.9s\n",
      "[Parallel(n_jobs=1)]: Done  30 out of  30 | elapsed:   27.0s finished\n"
     ]
    },
    {
     "name": "stdout",
     "output_type": "stream",
     "text": [
      "Fitting 5 folds for each of 6 candidates, totalling 30 fits\n"
     ]
    },
    {
     "data": {
      "text/plain": [
       "GridSearchCV(cv=sklearn.cross_validation.KFold(n=6095, n_folds=5, shuffle=True, random_state=241),\n",
       "       error_score='raise',\n",
       "       estimator=LogisticRegression(C=1.0, class_weight=None, dual=False, fit_intercept=True,\n",
       "          intercept_scaling=1, max_iter=100, multi_class='ovr',\n",
       "          penalty='l2', random_state=None, solver='liblinear', tol=0.0001,\n",
       "          verbose=0),\n",
       "       fit_params={}, iid=True, loss_func=None, n_jobs=1,\n",
       "       param_grid={'C': [0.001, 0.01, 0.1, 1.0, 10.0, 100.0]},\n",
       "       pre_dispatch='2*n_jobs', refit=True, score_func=None,\n",
       "       scoring=<function scorer at 0x7f0d1230f140>, verbose=1)"
      ]
     },
     "execution_count": 14,
     "metadata": {},
     "output_type": "execute_result"
    }
   ],
   "source": [
    "from sklearn.linear_model import LogisticRegression\n",
    "from sklearn.grid_search import GridSearchCV\n",
    "from sklearn.metrics import roc_auc_score\n",
    "# вам пригодятся функции cross_val_score или GridSearchCV; используйте в них объект cv в качестве генератора разбиений\n",
    "C_grid = [0.001, 0.01, 0.1, 1.0, 10.0, 100.0]\n",
    "def scorer(estimator, X, y):\n",
    "    y_pred = estimator.predict_proba(X)[:, 1]    \n",
    "    return roc_auc_score(y, y_pred)\n",
    "gs = GridSearchCV(LogisticRegression(), {'C': C_grid}, scoring=scorer, \n",
    "                  cv=cv, n_jobs=1, refit=True, verbose=1)\n",
    "gs.fit(X, y_train)\n"
   ]
  },
  {
   "cell_type": "code",
   "execution_count": 15,
   "metadata": {
    "collapsed": false
   },
   "outputs": [
    {
     "name": "stdout",
     "output_type": "stream",
     "text": [
      "Best C: 0.1. Best CV score: 0.882391493452\n",
      "Test score: 0.880349059919\n"
     ]
    }
   ],
   "source": [
    "print('Best C: ' + str(gs.best_params_['C']) + '. Best CV score: ' + str(gs.best_score_))\n",
    "print('Test score: ' + str(scorer(gs, X_test, y_test)))"
   ]
  },
  {
   "cell_type": "markdown",
   "metadata": {},
   "source": [
    "Попробуем теперь логистическую регрессию с L1-регуляризатором (penalty='l1'). Выведите число ненулевых коэффициентов (clf.coef\\_) при каждом значении параметра регуляризации из сетки."
   ]
  },
  {
   "cell_type": "code",
   "execution_count": 16,
   "metadata": {
    "collapsed": false
   },
   "outputs": [
    {
     "name": "stdout",
     "output_type": "stream",
     "text": [
      "C: 0.001. Coeff num: 0\n",
      "C: 0.01. Coeff num: 9\n",
      "C: 0.1. Coeff num: 58\n",
      "C: 1.0. Coeff num: 666\n",
      "C: 10.0. Coeff num: 2456\n",
      "C: 100.0. Coeff num: 2968\n"
     ]
    }
   ],
   "source": [
    "for C in C_grid:\n",
    "    clf = LogisticRegression(penalty='l1', C=C)\n",
    "    clf.fit(X, y_train)\n",
    "    print('C: ' + str(C) + '. Coeff num: ' + str(np.sum(np.abs(clf.coef_) > 1e-5)))                             "
   ]
  },
  {
   "cell_type": "markdown",
   "metadata": {},
   "source": [
    "Какое качество на тесте даёт логистическая регрессия с L1-регуляризатором с параметром C=0.01? Сколько для достижения такого качества ей нужно признаков?"
   ]
  },
  {
   "cell_type": "code",
   "execution_count": 17,
   "metadata": {
    "collapsed": false
   },
   "outputs": [
    {
     "name": "stdout",
     "output_type": "stream",
     "text": [
      "Test score: 0.852572101153. Coeff num: 9\n"
     ]
    }
   ],
   "source": [
    "clf = LogisticRegression(penalty='l1', C=0.01) \n",
    "clf.fit(X, y_train)\n",
    "y_pred = clf.predict_proba(X_test)[:, 1]\n",
    "num = np.sum(np.abs(clf.coef_) > 1e-5)\n",
    "print('Test score: ' + str(roc_auc_score(y_test, y_pred)) + '. Coeff num: ' + str(num))"
   ]
  },
  {
   "cell_type": "markdown",
   "metadata": {},
   "source": [
    "# Задание 4\n",
    "В этом задании мы внимательно рассмотрим различные аспекты качества классификатора. Для этого возьмите классификатор с L2-регуляризатором с лучшим значением параметра регуляризации (вы его нашли в предыдущем задании), обучите на полной обучающей выборке и найдите предсказания вероятностей на тесте. Далее будем работать только с этими прогнозами."
   ]
  },
  {
   "cell_type": "code",
   "execution_count": 18,
   "metadata": {
    "collapsed": false
   },
   "outputs": [],
   "source": [
    "proba = gs.predict_proba(X_test)[:, 1]"
   ]
  },
  {
   "cell_type": "markdown",
   "metadata": {},
   "source": [
    "Посчитайте AUC-ROC, AUC-PR (average_precision_score) и log-loss для прогнозов."
   ]
  },
  {
   "cell_type": "code",
   "execution_count": 19,
   "metadata": {
    "collapsed": false
   },
   "outputs": [
    {
     "name": "stdout",
     "output_type": "stream",
     "text": [
      "AUC-ROC: 0.880349059919\n",
      "AUC-PR: 0.838758043121\n",
      "Log loss: 0.442737702403\n"
     ]
    }
   ],
   "source": [
    "from sklearn.metrics import roc_auc_score\n",
    "from sklearn.metrics import average_precision_score\n",
    "from sklearn.metrics import log_loss\n",
    "\n",
    "print('AUC-ROC: ' + str(roc_auc_score(y_test, proba)))\n",
    "print('AUC-PR: ' + str(average_precision_score(y_test, proba)))\n",
    "print('Log loss: ' + str(log_loss(y_test, proba)))"
   ]
  },
  {
   "cell_type": "markdown",
   "metadata": {},
   "source": [
    "Нарисуйте ROC- и PR-кривые. Не забудьте подписать оси."
   ]
  },
  {
   "cell_type": "code",
   "execution_count": 20,
   "metadata": {
    "collapsed": false
   },
   "outputs": [
    {
     "data": {
      "image/png": "[encoded data removed]",
      "text/plain": [
       "<matplotlib.figure.Figure at 0x7f0d1232a950>"
      ]
     },
     "metadata": {},
     "output_type": "display_data"
    },
    {
     "data": {
      "image/png": "[encoded data removed]",
      "text/plain": [
       "<matplotlib.figure.Figure at 0x7f0d1c304250>"
      ]
     },
     "metadata": {},
     "output_type": "display_data"
    }
   ],
   "source": [
    "from sklearn.metrics import roc_curve\n",
    "from sklearn.metrics import precision_recall_curve\n",
    "fpr, tpr, _ = roc_curve(y_test, proba)\n",
    "plt.plot(fpr, tpr)\n",
    "plt.xlabel('FPR', fontsize=14)\n",
    "plt.ylabel('TPR', fontsize=14)\n",
    "plt.title('ROC-curve', fontsize=16)\n",
    "plt.show()\n",
    "\n",
    "precision, recall, thresholds = precision_recall_curve(y_test, proba)\n",
    "plt.plot(recall, precision)\n",
    "plt.xlabel('Recall', fontsize=14)\n",
    "plt.ylabel('Precision', fontsize=14)\n",
    "plt.title('PR-curve', fontsize=16)\n",
    "plt.show()"
   ]
  },
  {
   "cell_type": "markdown",
   "metadata": {},
   "source": [
    "Допустим, мы хотим построить классификатор, который будет находить не менее 90% успешных грантов. \n",
    "\n",
    "Соответственно, имеем нижнюю границу 90% на полноту. Какую максимальную точность при этом можно получить? При каком значении порога? Для получения ответа проанализируйте массивы, возвращаемые функцией metrics.precision_recall_curve."
   ]
  },
  {
   "cell_type": "code",
   "execution_count": 21,
   "metadata": {
    "collapsed": false
   },
   "outputs": [
    {
     "name": "stdout",
     "output_type": "stream",
     "text": [
      "Recall >= 90%\n",
      "Precision: 0.701948051948\n",
      "Threshold: 0.314958503338\n"
     ]
    }
   ],
   "source": [
    "ind = np.where(recall >= 0.9)[0][np.argmax(precision[recall >= 0.9])]\n",
    "print('Recall >= 90%')\n",
    "print('Precision: ' + str(precision[ind]))\n",
    "print('Threshold: ' + str(thresholds[ind]))"
   ]
  },
  {
   "cell_type": "markdown",
   "metadata": {},
   "source": [
    "Возьмите классификатор с порогом из предыдущего пункта и подсчитайте для него F-меру. Почему она получилась маленькой, несмотря на высокую полноту?"
   ]
  },
  {
   "cell_type": "code",
   "execution_count": 22,
   "metadata": {
    "collapsed": false
   },
   "outputs": [
    {
     "name": "stdout",
     "output_type": "stream",
     "text": [
      "F-score: 0.7887632251\n"
     ]
    }
   ],
   "source": [
    "print('F-score: ' + str(2.0 * precision[ind] * recall[ind] / (precision[ind] + recall[ind])))"
   ]
  },
  {
   "cell_type": "markdown",
   "metadata": {},
   "source": [
    "#### Значение F-меры не велико из-за маленькой точности."
   ]
  },
  {
   "cell_type": "markdown",
   "metadata": {},
   "source": [
    "Допустим, что университету важно подавать как можно меньше заявок, которые окажутся неуспешными — они очень плохо влияют на репутацию. Установим нижнюю границу на точность 80%. Какую максимальную полноту при этом можно обеспечить? При каком пороге?"
   ]
  },
  {
   "cell_type": "code",
   "execution_count": 23,
   "metadata": {
    "collapsed": false
   },
   "outputs": [
    {
     "name": "stdout",
     "output_type": "stream",
     "text": [
      "Precision >= 80%\n",
      "Recall: 0.776019983347\n",
      "Threshold: 0.529039415988\n"
     ]
    }
   ],
   "source": [
    "ind = np.where(precision >= 0.8)[0][np.argmax(recall[precision >= 0.8])]\n",
    "print('Precision >= 80%')\n",
    "print('Recall: ' + str(recall[ind]))\n",
    "print('Threshold: ' + str(thresholds[ind]))"
   ]
  },
  {
   "cell_type": "markdown",
   "metadata": {},
   "source": [
    "#### Задание 5\n",
    "В этом задании мы научимся оценивать способность классификатора предсказывать вероятности, а также разберемся с калибровкой.\n",
    "\n",
    "Начнем с калибровочных кривых. Допустим, алгоритм возвращает некоторые числа от нуля до единицы. Хорошо ли они оценивают вероятность? Для этого разобьем отрезок $[0, 1]$ на несколько маленьких отрезков одинаковой длины. Рассмотрим $i$-й отрезок с границами $[a_i, b_i]$ и предсказания $p_1, p_2, \\dots, p_k$, которые попали в него. Пусть им соответствуют истинные ответы $y_1, y_2, \\dots, y_k$. Если алгоритм выдает корректные вероятности, то среди этих истинных ответов должно быть примерно $(a_i + b_i) / 2$ единиц. Иными словами, если нарисовать кривую, у которой по оси X отложены центры отрезков, а по оси Y — доли единичных ответов этих в отрезках, то она должна оказаться диагональной. Ниже приведена функция, которая должна рисовать такие кривые. В ней допущено две ошибки — найдите и исправьте их."
   ]
  },
  {
   "cell_type": "code",
   "execution_count": 24,
   "metadata": {
    "collapsed": true
   },
   "outputs": [],
   "source": [
    "def plot_calibration_curve(y_test, preds):\n",
    "    bin_middle_points = []\n",
    "    bin_real_ratios = []\n",
    "    n_bins = 20\n",
    "    for i in range(n_bins):\n",
    "        l = 1.0 / n_bins * i\n",
    "        r = 1.0 / n_bins * (i + 1)\n",
    "        bin_middle_points.append((l + r) / 2)\n",
    "        bin_real_ratios.append(np.mean(y_test[(preds >= l) & (preds < r)] == 1))\n",
    "    plt.plot(bin_middle_points, bin_real_ratios)"
   ]
  },
  {
   "cell_type": "markdown",
   "metadata": {},
   "source": [
    "Проверим её работу на логистической регрессии (поменяйте имена переменных, если это необходимо). Получилась ли почти диагональная калибровочная кривая?"
   ]
  },
  {
   "cell_type": "code",
   "execution_count": 25,
   "metadata": {
    "collapsed": false
   },
   "outputs": [
    {
     "data": {
      "image/png": "[encoded data removed]",
      "text/plain": [
       "<matplotlib.figure.Figure at 0x7f0d1232a750>"
      ]
     },
     "metadata": {},
     "output_type": "display_data"
    }
   ],
   "source": [
    "clf = LogisticRegression(C=1.0)\n",
    "clf.fit(X, y_train)\n",
    "preds = clf.predict_proba(X_test)[:, 1]\n",
    "plot_calibration_curve(y_test, preds)"
   ]
  },
  {
   "cell_type": "markdown",
   "metadata": {},
   "source": [
    "#### Полученная кривая почти диагональна."
   ]
  },
  {
   "cell_type": "markdown",
   "metadata": {},
   "source": [
    "Заодно обратим внимание на то, как часто классификатор выдает те или иные вероятности."
   ]
  },
  {
   "cell_type": "code",
   "execution_count": 26,
   "metadata": {
    "collapsed": false
   },
   "outputs": [
    {
     "data": {
      "image/png": "[encoded data removed]",
      "text/plain": [
       "<matplotlib.figure.Figure at 0x7f0d12093150>"
      ]
     },
     "metadata": {},
     "output_type": "display_data"
    }
   ],
   "source": [
    "plt.hist(preds, bins=20)\n",
    "plt.show()"
   ]
  },
  {
   "cell_type": "markdown",
   "metadata": {},
   "source": [
    "Обучим теперь классификатор с кусочно-линейной функцией потерь (hinge loss, как в SVM)."
   ]
  },
  {
   "cell_type": "code",
   "execution_count": 27,
   "metadata": {
    "collapsed": true
   },
   "outputs": [],
   "source": [
    "from sklearn.linear_model import SGDClassifier\n",
    "clf = SGDClassifier(loss='hinge')\n",
    "clf.fit(X, y_train)\n",
    "preds = clf.decision_function(X_test)\n",
    "preds = 1.0 / (1.0 + np.exp(-preds))"
   ]
  },
  {
   "cell_type": "markdown",
   "metadata": {},
   "source": [
    "Изучите распределение ответов классификатора. Чем оно отличается от распределения у логистической регрессии? Чем вы можете объяснить это?"
   ]
  },
  {
   "cell_type": "code",
   "execution_count": 28,
   "metadata": {
    "collapsed": false
   },
   "outputs": [
    {
     "data": {
      "image/png": "[encoded data removed]",
      "text/plain": [
       "<matplotlib.figure.Figure at 0x7f0d1c03ba50>"
      ]
     },
     "metadata": {},
     "output_type": "display_data"
    }
   ],
   "source": [
    "plt.hist(preds, bins=20)\n",
    "plt.show()"
   ]
  },
  {
   "cell_type": "markdown",
   "metadata": {},
   "source": [
    "Для большинства объектов предсказываются вероянности близкие к 0 или к 1. Видимо куоно-линейная функция потерь стремится хорошо разделить классы, но не стремится предсказать вероятности классов."
   ]
  },
  {
   "cell_type": "markdown",
   "metadata": {},
   "source": [
    "Нарисуем калибровочную кривую. Видите ли вы какие-либо проблемы в ней?"
   ]
  },
  {
   "cell_type": "code",
   "execution_count": 29,
   "metadata": {
    "collapsed": false
   },
   "outputs": [
    {
     "data": {
      "image/png": "[encoded data removed]",
      "text/plain": [
       "<matplotlib.figure.Figure at 0x7f0d12922090>"
      ]
     },
     "metadata": {},
     "output_type": "display_data"
    }
   ],
   "source": [
    "plot_calibration_curve(y_test, preds)"
   ]
  },
  {
   "cell_type": "markdown",
   "metadata": {},
   "source": [
    "Кривая сильно отколняется от диагонали."
   ]
  },
  {
   "cell_type": "markdown",
   "metadata": {},
   "source": [
    "Попробуем откалибровать вероятности. Грубо говоря, это процедура, которая для каждого отрезка $[a_i, b_i]$ строит преобразование, которое корректирует вероятности в нем, приводя тем самым калибровочную кривую к диагональной форме.\n",
    "\n",
    "Воспользуйтесь классом sklearn.calibration.CalibratedClassifierCV для калибровки вероятностей на обучении, и постройте с его помощью предсказания для тестовой выборки. Нарисуйте для них калибровочную кривую. Улучшилась ли она?"
   ]
  },
  {
   "cell_type": "code",
   "execution_count": 30,
   "metadata": {
    "collapsed": false
   },
   "outputs": [
    {
     "data": {
      "image/png": "[encoded data removed]",
      "text/plain": [
       "<matplotlib.figure.Figure at 0x7f0d12347290>"
      ]
     },
     "metadata": {},
     "output_type": "display_data"
    }
   ],
   "source": [
    "from sklearn.calibration import CalibratedClassifierCV\n",
    "calibrated = CalibratedClassifierCV(SGDClassifier(loss='hinge'))\n",
    "calibrated.fit(X, y_train)\n",
    "preds = calibrated.predict_proba(X_test)[:, 1]\n",
    "plot_calibration_curve(y_test, preds)"
   ]
  },
  {
   "cell_type": "markdown",
   "metadata": {},
   "source": [
    "После калибровки кривая стала больше походить на диагональную."
   ]
  },
  {
   "cell_type": "markdown",
   "metadata": {},
   "source": [
    "#### Задание 6\n",
    "Здесь вы можете вставить вашу любимую картинку про Австралию."
   ]
  },
  {
   "cell_type": "code",
   "execution_count": null,
   "metadata": {
    "collapsed": true
   },
   "outputs": [],
   "source": []
  },
  {
   "cell_type": "code",
   "execution_count": null,
   "metadata": {
    "collapsed": true
   },
   "outputs": [],
   "source": []
  },
  {
   "cell_type": "markdown",
   "metadata": {},
   "source": [
    "## Часть 2. Градиентный спуск своими руками\n",
    "**(опциональная часть, за правильное выполнение к оценке добавляется 3 балла)**"
   ]
  },
  {
   "cell_type": "markdown",
   "metadata": {},
   "source": [
    "В этой части вам предстоит самостоятельно реализовать градиентный спуск для логистической функции потерь — то есть, по сути, собственными руками обучить логистическую регрессию. Будем использовать данные из предыдущей части."
   ]
  },
  {
   "cell_type": "markdown",
   "metadata": {},
   "source": [
    "Добавьте к обучающей и тестовой выборкам единичный признак. Переведите значения целевого вектора в множество $\\{-1, +1\\}$."
   ]
  },
  {
   "cell_type": "code",
   "execution_count": 33,
   "metadata": {
    "collapsed": false
   },
   "outputs": [],
   "source": [
    "X_train_new = np.hstack([X, np.ones((X.shape[0], 1))])\n",
    "X_test_new = np.hstack([X_test, np.ones((X_test.shape[0], 1))])\n",
    "y_train_new = y_train * 2 - 1\n",
    "y_test_new = y_test * 2 - 1"
   ]
  },
  {
   "cell_type": "markdown",
   "metadata": {},
   "source": [
    "Для начала реализуйте функции, которые вычисляют функционал, его градиент, а также прогнозы модели."
   ]
  },
  {
   "cell_type": "code",
   "execution_count": null,
   "metadata": {
    "collapsed": false
   },
   "outputs": [],
   "source": []
  },
  {
   "cell_type": "code",
   "execution_count": 34,
   "metadata": {
    "collapsed": true
   },
   "outputs": [],
   "source": [
    "# возвращает вектор предсказанных вероятностей для выборки X\n",
    "def make_pred(X, w):\n",
    "    dot = np.dot(X, w[:, np.newaxis])\n",
    "    return 1.0 / (1.0 + np.exp(-dot))"
   ]
  },
  {
   "cell_type": "code",
   "execution_count": 35,
   "metadata": {
    "collapsed": true
   },
   "outputs": [],
   "source": [
    "# возвращает значение логистического функционала для выборки (X, y) и вектора весов w\n",
    "def get_func(w, X, y):\n",
    "    M = (np.dot(X, w[:, np.newaxis]) * y[:, np.newaxis]).ravel()\n",
    "    return np.sum(np.log(1.0 + np.exp(-M))) / y.size"
   ]
  },
  {
   "cell_type": "code",
   "execution_count": 36,
   "metadata": {
    "collapsed": true
   },
   "outputs": [],
   "source": [
    "# возвращает градиент логистического функционала для выборки (X, y) и вектора весов w\n",
    "def get_grad(w, X, y):\n",
    "    M = (np.dot(X, w[:, np.newaxis]) * y[:, np.newaxis]).ravel()\n",
    "    c = (-1.0 / (1.0 + np.exp(M))) * y\n",
    "    return np.sum(c[:, np.newaxis] * X , axis=0) / y.size"
   ]
  },
  {
   "cell_type": "markdown",
   "metadata": {},
   "source": [
    "Теперь реализуйте градиентный спуск (не стохастический). Функция должна возвращать вектор весов и список значений функционала на каждой итерации. В градиентном спуске должно выполняться не более max_iter итераций."
   ]
  },
  {
   "cell_type": "code",
   "execution_count": 37,
   "metadata": {
    "collapsed": true
   },
   "outputs": [],
   "source": [
    "def grad_descent(X, y, step_size, max_iter):\n",
    "    w = np.zeros(X.shape[1])    \n",
    "    obj_curve = []\n",
    "    obj_curve.append(get_func(w, X, y))\n",
    "    for i in range(1, max_iter + 1):\n",
    "        grad = get_grad(w, X, y)        \n",
    "        w += -step_size * grad\n",
    "        obj_curve.append(get_func(w, X, y))\n",
    "        if (np.sqrt(np.sum(grad ** 2)) < 1e-6):\n",
    "            break\n",
    "    return w, np.array(obj_curve)"
   ]
  },
  {
   "cell_type": "markdown",
   "metadata": {},
   "source": [
    "Запустите градиентный спуск для значений размера шага из набора [0.001, 1, 10]. Нарисуйте кривые зависимости значения функционала от номера итерации. Проанализируйте их. Вычислите AUC-ROC на тестовой выборке для лучшего из обученных вариантов."
   ]
  },
  {
   "cell_type": "code",
   "execution_count": 123,
   "metadata": {
    "collapsed": false
   },
   "outputs": [
    {
     "data": {
      "image/png": "[encoded data removed]",
      "text/plain": [
       "<matplotlib.figure.Figure at 0x7fd4d3487cd0>"
      ]
     },
     "metadata": {},
     "output_type": "display_data"
    }
   ],
   "source": [
    "best_func = 1e10\n",
    "coef = None\n",
    "for step in [0.001, 1, 10]:\n",
    "    w, obj_curve = grad_descent(X_train_new, y_train_new, step, 200)\n",
    "    if (best_func > obj_curve[-1]):\n",
    "        coef = w\n",
    "        best_func = obj_curve[-1]\n",
    "    plt.semilogy(np.arange(obj_curve.size), obj_curve, label=str(step))\n",
    "plt.xlabel('Iteration', fontsize=14)\n",
    "plt.ylabel('Function value', fontsize=14)\n",
    "plt.legend()\n",
    "plt.show()"
   ]
  },
  {
   "cell_type": "markdown",
   "metadata": {},
   "source": [
    "Графики зависимости функции потерь от номера итерации градиентного спуска показывают следуюшее. \n",
    "\n",
    "Шаг 10 оказался слишком большим, и метод не может сойтись с таким шагом. \n",
    "\n",
    "Шаг 0.001 оказался слишком мелким, с таким шагом итерация метода почти не уменьшает значение функции потерь. \n",
    "\n",
    "Шаг 1 оказался оптимальным, с таким шагом удалось уменьшить значение функции потерь. "
   ]
  },
  {
   "cell_type": "code",
   "execution_count": 132,
   "metadata": {
    "collapsed": false
   },
   "outputs": [
    {
     "name": "stdout",
     "output_type": "stream",
     "text": [
      "AUC-ROC: 0.87576364597\n"
     ]
    }
   ],
   "source": [
    "preds = make_pred(X_test_new, coef)\n",
    "print('AUC-ROC: ' + str(roc_auc_score(y_test, preds)))"
   ]
  },
  {
   "cell_type": "markdown",
   "metadata": {},
   "source": [
    "Теперь реализуйте стохастический градиентный спуск. Функция должна возвращать вектор весов и список значений функционала на каждой итерации. В стохастическом градиентном спуске должно выполняться не более max_iter итераций."
   ]
  },
  {
   "cell_type": "code",
   "execution_count": 38,
   "metadata": {
    "collapsed": true
   },
   "outputs": [],
   "source": [
    "def sgd(X, y, step_size, max_iter):\n",
    "    w = np.zeros(X.shape[1])    \n",
    "    obj_curve = []\n",
    "    obj_curve.append(get_func(w, X, y))\n",
    "    for i in range(1, max_iter + 1):\n",
    "        ind = np.random.randint(0, y.size - 1)        \n",
    "        grad = get_grad(w, X[ind, :], np.array([y[ind]]))        \n",
    "        w += -step_size * grad\n",
    "        obj_curve.append(get_func(w, X, y))\n",
    "        if (np.sqrt(np.sum(grad ** 2)) < 1e-6):\n",
    "            break\n",
    "    return w, np.array(obj_curve)"
   ]
  },
  {
   "cell_type": "markdown",
   "metadata": {},
   "source": [
    "Подберите размер шага, при котором SGD будет сходиться. Нарисуйте график сходимости. Вычислите AUC-ROC на тестовой выборке."
   ]
  },
  {
   "cell_type": "code",
   "execution_count": 53,
   "metadata": {
    "collapsed": false
   },
   "outputs": [
    {
     "data": {
      "image/png": "[encoded data removed]",
      "text/plain": [
       "<matplotlib.figure.Figure at 0x7f0d129b0650>"
      ]
     },
     "metadata": {},
     "output_type": "display_data"
    }
   ],
   "source": [
    "w, obj_curve = sgd(X_train_new, y_train_new, 0.01, 5000)\n",
    "plt.plot(np.arange(obj_curve.size), obj_curve)\n",
    "plt.xlabel('Iteration', fontsize=14)\n",
    "plt.ylabel('Function value', fontsize=14)\n",
    "plt.show()"
   ]
  },
  {
   "cell_type": "code",
   "execution_count": 54,
   "metadata": {
    "collapsed": false
   },
   "outputs": [
    {
     "name": "stdout",
     "output_type": "stream",
     "text": [
      "AUC-ROC: 0.858320674697\n"
     ]
    }
   ],
   "source": [
    "preds = make_pred(X_test_new, w)\n",
    "print('AUC-ROC: ' + str(roc_auc_score(y_test, preds)))"
   ]
  },
  {
   "cell_type": "markdown",
   "metadata": {},
   "source": [
    "Метод сделал на порядок больше итераций, чем FGD, но получил меньшее качесвто "
   ]
  },
  {
   "cell_type": "markdown",
   "metadata": {},
   "source": [
    "А теперь самое сложное: заново сформируйте выборку с помощью transform_data, но теперь не масштабируйте вещественные признаки. Запустите на этой выборке градиентный спуск. Что вы наблюдаете? Удается ли достичь такого же качества, как и при использовании масштабирования?"
   ]
  },
  {
   "cell_type": "code",
   "execution_count": 31,
   "metadata": {
    "collapsed": false
   },
   "outputs": [],
   "source": [
    "class dummy_scaler:\n",
    "    def fit_transform(self, X):\n",
    "        return X\n",
    "    def transform(self, X):\n",
    "        return X\n",
    "scaler = dummy_scaler()\n",
    "transformer = DictVectorizer(sparse=False)\n",
    "X_train_non_scaled, scaler, transformer = transform_data(data_train, scaler, transformer, False)\n",
    "X_test_non_scaled, _, _ = transform_data(data_test, scaler, transformer, True)\n",
    "X_train_non_scaled = np.hstack([X_train_non_scaled, np.ones((X.shape[0], 1))])\n",
    "X_test_non_scaled = np.hstack([X_test_non_scaled, np.ones((X_test.shape[0], 1))])"
   ]
  },
  {
   "cell_type": "code",
   "execution_count": 50,
   "metadata": {
    "collapsed": false
   },
   "outputs": [],
   "source": [
    "w, obj_curve = grad_descent(X_train_non_scaled, y_train_new, 0.000001, 200)"
   ]
  },
  {
   "cell_type": "code",
   "execution_count": 51,
   "metadata": {
    "collapsed": false
   },
   "outputs": [
    {
     "data": {
      "image/png": "[encoded data removed]",
      "text/plain": [
       "<matplotlib.figure.Figure at 0x7f0d12103110>"
      ]
     },
     "metadata": {},
     "output_type": "display_data"
    }
   ],
   "source": [
    "plt.plot(np.arange(obj_curve.size), obj_curve)\n",
    "plt.xlabel('Iteration', fontsize=14)\n",
    "plt.ylabel('Function value', fontsize=14)\n",
    "plt.show()"
   ]
  },
  {
   "cell_type": "code",
   "execution_count": 52,
   "metadata": {
    "collapsed": false
   },
   "outputs": [
    {
     "name": "stdout",
     "output_type": "stream",
     "text": [
      "AUC-ROC: 0.511680834904\n"
     ]
    }
   ],
   "source": [
    "preds = make_pred(X_test_non_scaled, w)\n",
    "print('AUC-ROC: ' + str(roc_auc_score(y_test, preds)))"
   ]
  },
  {
   "cell_type": "markdown",
   "metadata": {},
   "source": [
    "Без масштабирования признаков, метод сходится только при очень маленькой длине шага. При этом качестве сильно хуже, чем при масштабировании."
   ]
  },
  {
   "cell_type": "markdown",
   "metadata": {},
   "source": [
    "Здесь вы можете поделиться своими мыслями по поводу этой части."
   ]
  },
  {
   "cell_type": "code",
   "execution_count": null,
   "metadata": {
    "collapsed": true
   },
   "outputs": [],
   "source": []
  },
  {
   "cell_type": "markdown",
   "metadata": {},
   "source": [
    "## Часть 3. Линейная регрессия на простом примере"
   ]
  },
  {
   "cell_type": "markdown",
   "metadata": {},
   "source": [
    "В этой части мы очень кратко разберемся с линейной регрессией и измерением качества ее прогнозов. Будем использовать датасет diabetes."
   ]
  },
  {
   "cell_type": "code",
   "execution_count": 55,
   "metadata": {
    "collapsed": true
   },
   "outputs": [],
   "source": [
    "from sklearn import datasets\n",
    "from sklearn.cross_validation import train_test_split\n",
    "data = datasets.load_diabetes()\n",
    "X, X_test, y, y_test = train_test_split(data.data, data.target, train_size=0.7, random_state=241)"
   ]
  },
  {
   "cell_type": "markdown",
   "metadata": {},
   "source": [
    "Обучите линейную регрессию с L2-регуляризатором, подобрав лучшее значение параметра регуляризации на тестовой выборке. Используйте MSE в качестве тестовой выборки. При каком значении этого параметра достигается наилучшее качество?"
   ]
  },
  {
   "cell_type": "code",
   "execution_count": 56,
   "metadata": {
    "collapsed": false
   },
   "outputs": [
    {
     "name": "stdout",
     "output_type": "stream",
     "text": [
      "alpha = 0.001 . mse = 3120.09020578\n",
      "alpha = 0.01 . mse = 3107.38818648\n",
      "alpha = 0.1 . mse = 3096.03015101\n",
      "alpha = 1.0 . mse = 3399.40482339\n",
      "alpha = 10.0 . mse = 4577.48210429\n",
      "alpha = 100.0 . mse = 5210.22019186\n"
     ]
    }
   ],
   "source": [
    "from sklearn.linear_model import Ridge\n",
    "alpha_grid = [0.001, 0.01, 0.1, 1.0, 10.0, 100.0]\n",
    "for alpha in alpha_grid:\n",
    "    regressor = Ridge(alpha=alpha)\n",
    "    regressor.fit(X, y)\n",
    "    y_pred = regressor.predict(X_test)\n",
    "    mse = np.mean((y_test - y_pred) ** 2)\n",
    "    print('alpha = ' + str(alpha) + ' . mse = ' + str(mse))\n"
   ]
  },
  {
   "cell_type": "markdown",
   "metadata": {},
   "source": [
    "Наилучшее щначение достигается при $\\alpha=0.1$"
   ]
  },
  {
   "cell_type": "markdown",
   "metadata": {},
   "source": [
    "Вычислите для лучшей из моделей RMSE и коэффициент детерминации (r2_score) на тестовой выборке. Что вы можете сказать о значении коэффицинта детерминации? Насколько данная модель близка к оптимальной?"
   ]
  },
  {
   "cell_type": "code",
   "execution_count": 57,
   "metadata": {
    "collapsed": false
   },
   "outputs": [
    {
     "name": "stdout",
     "output_type": "stream",
     "text": [
      "rmse = 55.6419819113\n",
      "r2_score = 0.417024184822\n"
     ]
    }
   ],
   "source": [
    "from sklearn.metrics import r2_score\n",
    "regressor = Ridge(alpha=0.1)\n",
    "regressor.fit(X, y)\n",
    "y_pred = regressor.predict(X_test)\n",
    "rmse = math.sqrt(np.mean((y_test - y_pred) ** 2))\n",
    "r2 = r2_score(y_test, y_pred)\n",
    "print('rmse = ' + str(rmse))\n",
    "print('r2_score = ' + str(r2))"
   ]
  },
  {
   "cell_type": "markdown",
   "metadata": {},
   "source": [
    "Значение коэффициента детерминации показывает, что модель достаточна далека от идеальной. Можно сказать, что она занимает промежуточное положение между алгоритмом, который для всех объектов предсказывает среднее по тренировочной выборке значение $y$, и идеальным алгоритмом."
   ]
  },
  {
   "cell_type": "code",
   "execution_count": null,
   "metadata": {
    "collapsed": true
   },
   "outputs": [],
   "source": []
  }
 ],
 "metadata": {
  "kernelspec": {
   "display_name": "Python 2",
   "language": "python",
   "name": "python2"
  },
  "language_info": {
   "codemirror_mode": {
    "name": "ipython",
    "version": 2
   },
   "file_extension": ".py",
   "mimetype": "text/x-python",
   "name": "python",
   "nbconvert_exporter": "python",
   "pygments_lexer": "ipython2",
   "version": "2.7.9"
  }
 },
 "nbformat": 4,
 "nbformat_minor": 0
}

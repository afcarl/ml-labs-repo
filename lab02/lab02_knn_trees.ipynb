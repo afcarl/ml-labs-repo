{
 "cells": [
  {
   "cell_type": "markdown",
   "metadata": {},
   "source": [
    "ФИО: Гарипов Тимур Исмагилевич\n",
    "\n",
    "Группа: 317"
   ]
  },
  {
   "cell_type": "code",
   "execution_count": 91,
   "metadata": {
    "collapsed": false
   },
   "outputs": [],
   "source": [
    "import numpy as np\n",
    "import pandas as pd\n",
    "from collections import defaultdict\n",
    "import math\n",
    "import time\n",
    "import sys\n",
    "import sklearn\n",
    "import sklearn.neighbors\n",
    "import sklearn.tree\n",
    "import sklearn.ensemble\n",
    "import matplotlib.pyplot as plt\n",
    "%matplotlib inline"
   ]
  },
  {
   "cell_type": "markdown",
   "metadata": {},
   "source": [
    "Все эксперименты в этой лабораторной работе предлагается проводить на данных соревнования Amazon Employee Access Challenge: https://www.kaggle.com/c/amazon-employee-access-challenge\n",
    "\n",
    "В данной задаче предлагается предсказать, будет ли одобрен запрос сотрудника на получение доступа к тому или иному ресурсу. Все признаки являются категориальными.\n",
    "\n",
    "Для удобства данные можно загрузить по ссылке: https://www.dropbox.com/s/q6fbs1vvhd5kvek/amazon.csv\n",
    "\n",
    "Сразу прочитаем данные и создадим разбиение на обучение и контроль:"
   ]
  },
  {
   "cell_type": "code",
   "execution_count": 2,
   "metadata": {
    "collapsed": false
   },
   "outputs": [
    {
     "data": {
      "text/html": [
       "<div>\n",
       "<table border=\"1\" class=\"dataframe\">\n",
       "  <thead>\n",
       "    <tr style=\"text-align: right;\">\n",
       "      <th></th>\n",
       "      <th>ACTION</th>\n",
       "      <th>RESOURCE</th>\n",
       "      <th>MGR_ID</th>\n",
       "      <th>ROLE_ROLLUP_1</th>\n",
       "      <th>ROLE_ROLLUP_2</th>\n",
       "      <th>ROLE_DEPTNAME</th>\n",
       "      <th>ROLE_TITLE</th>\n",
       "      <th>ROLE_FAMILY_DESC</th>\n",
       "      <th>ROLE_FAMILY</th>\n",
       "      <th>ROLE_CODE</th>\n",
       "    </tr>\n",
       "  </thead>\n",
       "  <tbody>\n",
       "    <tr>\n",
       "      <th>0</th>\n",
       "      <td>1</td>\n",
       "      <td>39353</td>\n",
       "      <td>85475</td>\n",
       "      <td>117961</td>\n",
       "      <td>118300</td>\n",
       "      <td>123472</td>\n",
       "      <td>117905</td>\n",
       "      <td>117906</td>\n",
       "      <td>290919</td>\n",
       "      <td>117908</td>\n",
       "    </tr>\n",
       "    <tr>\n",
       "      <th>1</th>\n",
       "      <td>1</td>\n",
       "      <td>17183</td>\n",
       "      <td>1540</td>\n",
       "      <td>117961</td>\n",
       "      <td>118343</td>\n",
       "      <td>123125</td>\n",
       "      <td>118536</td>\n",
       "      <td>118536</td>\n",
       "      <td>308574</td>\n",
       "      <td>118539</td>\n",
       "    </tr>\n",
       "    <tr>\n",
       "      <th>2</th>\n",
       "      <td>1</td>\n",
       "      <td>36724</td>\n",
       "      <td>14457</td>\n",
       "      <td>118219</td>\n",
       "      <td>118220</td>\n",
       "      <td>117884</td>\n",
       "      <td>117879</td>\n",
       "      <td>267952</td>\n",
       "      <td>19721</td>\n",
       "      <td>117880</td>\n",
       "    </tr>\n",
       "    <tr>\n",
       "      <th>3</th>\n",
       "      <td>1</td>\n",
       "      <td>36135</td>\n",
       "      <td>5396</td>\n",
       "      <td>117961</td>\n",
       "      <td>118343</td>\n",
       "      <td>119993</td>\n",
       "      <td>118321</td>\n",
       "      <td>240983</td>\n",
       "      <td>290919</td>\n",
       "      <td>118322</td>\n",
       "    </tr>\n",
       "    <tr>\n",
       "      <th>4</th>\n",
       "      <td>1</td>\n",
       "      <td>42680</td>\n",
       "      <td>5905</td>\n",
       "      <td>117929</td>\n",
       "      <td>117930</td>\n",
       "      <td>119569</td>\n",
       "      <td>119323</td>\n",
       "      <td>123932</td>\n",
       "      <td>19793</td>\n",
       "      <td>119325</td>\n",
       "    </tr>\n",
       "  </tbody>\n",
       "</table>\n",
       "</div>"
      ],
      "text/plain": [
       "   ACTION  RESOURCE  MGR_ID  ROLE_ROLLUP_1  ROLE_ROLLUP_2  ROLE_DEPTNAME  \\\n",
       "0       1     39353   85475         117961         118300         123472   \n",
       "1       1     17183    1540         117961         118343         123125   \n",
       "2       1     36724   14457         118219         118220         117884   \n",
       "3       1     36135    5396         117961         118343         119993   \n",
       "4       1     42680    5905         117929         117930         119569   \n",
       "\n",
       "   ROLE_TITLE  ROLE_FAMILY_DESC  ROLE_FAMILY  ROLE_CODE  \n",
       "0      117905            117906       290919     117908  \n",
       "1      118536            118536       308574     118539  \n",
       "2      117879            267952        19721     117880  \n",
       "3      118321            240983       290919     118322  \n",
       "4      119323            123932        19793     119325  "
      ]
     },
     "execution_count": 2,
     "metadata": {},
     "output_type": "execute_result"
    }
   ],
   "source": [
    "data = pd.read_csv('amazon.csv')\n",
    "data.head()"
   ]
  },
  {
   "cell_type": "code",
   "execution_count": 3,
   "metadata": {
    "collapsed": false
   },
   "outputs": [
    {
     "data": {
      "text/plain": [
       "(32769, 10)"
      ]
     },
     "execution_count": 3,
     "metadata": {},
     "output_type": "execute_result"
    }
   ],
   "source": [
    "data.shape"
   ]
  },
  {
   "cell_type": "code",
   "execution_count": 4,
   "metadata": {
    "collapsed": false
   },
   "outputs": [
    {
     "data": {
      "text/plain": [
       "0.94210992096188473"
      ]
     },
     "execution_count": 4,
     "metadata": {},
     "output_type": "execute_result"
    }
   ],
   "source": [
    "# доля положительных примеров\n",
    "data.ACTION.mean()"
   ]
  },
  {
   "cell_type": "code",
   "execution_count": 5,
   "metadata": {
    "collapsed": false
   },
   "outputs": [
    {
     "name": "stdout",
     "output_type": "stream",
     "text": [
      "ACTION 2\n",
      "RESOURCE 7518\n",
      "MGR_ID 4243\n",
      "ROLE_ROLLUP_1 128\n",
      "ROLE_ROLLUP_2 177\n",
      "ROLE_DEPTNAME 449\n",
      "ROLE_TITLE 343\n",
      "ROLE_FAMILY_DESC 2358\n",
      "ROLE_FAMILY 67\n",
      "ROLE_CODE 343\n"
     ]
    }
   ],
   "source": [
    "# число значений у признаков\n",
    "for col_name in data.columns:\n",
    "    print col_name, len(data[col_name].unique())"
   ]
  },
  {
   "cell_type": "code",
   "execution_count": 6,
   "metadata": {
    "collapsed": true
   },
   "outputs": [],
   "source": [
    "from sklearn.cross_validation import train_test_split\n",
    "X_train, X_test, y_train, y_test = train_test_split(data.iloc[:, 1:], data.iloc[:, 0],\n",
    "                                                    test_size=0.3, random_state=241)\n",
    "X_train = np.array(X_train)\n",
    "X_test = np.array(X_test)\n",
    "y_train = np.array(y_train)\n",
    "y_test = np.array(y_test)"
   ]
  },
  {
   "cell_type": "markdown",
   "metadata": {},
   "source": [
    "## Часть 1: kNN и категориальные признаки"
   ]
  },
  {
   "cell_type": "markdown",
   "metadata": {},
   "source": [
    "#### 1. Реализуйте три функции расстояния на категориальных признаках, которые обсуждались на втором семинаре. Реализуйте самостоятельно метод k ближайших соседей, который будет уметь работать с этими функциями расстояния (учитите, что он должен возвращать вероятность — отношение объектов первого класса среди соседей к числу соседей). Как вариант, можно реализовать метрики как [user-defined distance](http://scikit-learn.org/stable/modules/generated/sklearn.neighbors.DistanceMetric.html), после чего воспользоваться реализацией kNN из sklearn (в этом случае используйте функцию predict_proba).\n",
    "\n",
    "#### Подсчитайте для каждой из метрик качество на тестовой выборке `X_test` при числе соседей $k = 10$. Мера качества — AUC-ROC.\n",
    "\n",
    "Какая функция расстояния оказалась лучшей?"
   ]
  },
  {
   "cell_type": "code",
   "execution_count": 20,
   "metadata": {
    "collapsed": true
   },
   "outputs": [],
   "source": [
    "counts = []\n",
    "p2_sum = []\n",
    "def precalc(X_train):\n",
    "    global counts, p2_sum\n",
    "    L = X_train.shape[0]\n",
    "    d = X_train.shape[1]    \n",
    "    counts = []\n",
    "    p2_sum = []\n",
    "    for feat_num in range(d):            \n",
    "        counts.append(defaultdict(int))\n",
    "        for i in range(L):\n",
    "            counts[-1][X_train[i, feat_num]] += 1    \n",
    "    \n",
    "    for feat_num in range(d):            \n",
    "        p2_sum.append(defaultdict(float))\n",
    "        for key, cnt in counts[feat_num].items():\n",
    "            for other_key, other_cnt in counts[feat_num].items():\n",
    "                if other_cnt <= cnt:\n",
    "                    p2_sum[-1][key] += other_cnt * 1.0 * (other_cnt - 1) / L / (L - 1)"
   ]
  },
  {
   "cell_type": "code",
   "execution_count": 21,
   "metadata": {
    "collapsed": false
   },
   "outputs": [
    {
     "name": "stdout",
     "output_type": "stream",
     "text": [
      "CPU times: user 59.2 s, sys: 536 ms, total: 59.7 s\n",
      "Wall time: 59.5 s\n"
     ]
    }
   ],
   "source": [
    "%time precalc(X_train)"
   ]
  },
  {
   "cell_type": "code",
   "execution_count": 47,
   "metadata": {
    "collapsed": false
   },
   "outputs": [],
   "source": [
    "def my_knn(X_train, y_train, X_test, metric, n_neighbors=10, B=100):\n",
    "    L, d = X_train.shape\n",
    "    N = X_test.shape[0]\n",
    "    prob = np.array([])\n",
    "        \n",
    "    #trainset precalc\n",
    "    V = np.array(X_train)        \n",
    "    if metric == 1:\n",
    "        V_p2_sum = np.zeros(V.shape)\n",
    "        for j in range(L):\n",
    "            for k in range(d):\n",
    "                V_p2_sum[j, k] = p2_sum[k][V[j, k]]\n",
    "\n",
    "    if metric == 2:\n",
    "        V_f_log = np.zeros(V.shape)\n",
    "        for j in range(L):\n",
    "            for k in range(d):\n",
    "                V_f_log[j, k] = math.log(1.0 + counts[k][V[j, k]])\n",
    "                \n",
    "        U_f_log = np.zeros(X_test.shape)\n",
    "        for i in range(N):\n",
    "            for k in range(d):\n",
    "                U_f_log[i, k] = math.log(1.0 + counts[k][X_test[i, k]])\n",
    "    \n",
    "    \n",
    "    #split trainset on batches\n",
    "    for i in range(0, N, B):                \n",
    "        r = min(N, i + B)\n",
    "        U = np.array(X_test)[i:r, :];\n",
    "        \n",
    "        #calculate dist  between U and V objects\n",
    "        NE = (U[:, np.newaxis, :] != V[np.newaxis, :, :]).astype('float64')\n",
    "        E = 1.0 - NE\n",
    "        if metric == 0:\n",
    "            dist = np.sum(NE, axis=2)\n",
    "        elif metric == 1:            \n",
    "            dist = np.sum(NE + E * V_p2_sum[np.newaxis, :, :], axis=2)\n",
    "        elif metric == 2:           \n",
    "            dist = np.sum(NE * V_f_log[np.newaxis, :, :] * U_f_log[i:r, np.newaxis, :], axis=2)\n",
    "                    \n",
    "        #process neighbors                  \n",
    "        ind = np.argpartition(dist, n_neighbors, axis=1)[:, :n_neighbors]                \n",
    "        cur = np.mean(np.array(y_train)[ind], axis=1)        \n",
    "        prob = np.concatenate((prob, cur))\n",
    "        \n",
    "        sys.stdout.write('.')        \n",
    "        sys.stdout.flush()\n",
    "    print ''\n",
    "    return prob"
   ]
  },
  {
   "cell_type": "markdown",
   "metadata": {},
   "source": [
    "Метрика 0: $\\rho(x_j, z_j) = [x_j \\neq z_j]$\n",
    "\n",
    "Метрика 1: $\\rho(x_j, z_j) = [x_j \\neq z_j] + [x_j = z_j] \\sum\\limits_{q:p_j(q) \\leqslant p_j(x_j)} p^2_j(q)$\n",
    "\n",
    "Метрика 2: $\\rho(x_j, z_j) = [x_j \\neq z_j] \\log{(1 + f_j(x_j))} \\log{(1 + f_j(z_j))}$ \n",
    "\n",
    "(к аргументам логарифма, добавлены единицы, чтобы метрка была определена для значений, не встречавшихся в обучающей выборке)"
   ]
  },
  {
   "cell_type": "code",
   "execution_count": 48,
   "metadata": {
    "collapsed": false,
    "scrolled": true
   },
   "outputs": [
    {
     "name": "stdout",
     "output_type": "stream",
     "text": [
      "0\n",
      "...................................................................................................\n",
      "[ 1.   1.   1.  ...,  0.6  1.   0.7]\n",
      "AUC-ROC: 0.829499015542\n",
      "\n",
      "1\n",
      "...................................................................................................\n",
      "[ 1.   1.   1.  ...,  0.8  1.   0.8]\n",
      "AUC-ROC: 0.833094317461\n",
      "\n",
      "2\n",
      "...................................................................................................\n",
      "[ 1.   1.   1.  ...,  0.6  1.   0.7]\n",
      "AUC-ROC: 0.821046030503\n",
      "\n"
     ]
    }
   ],
   "source": [
    "for metr in range(3):\n",
    "    print metr\n",
    "    prob = my_knn(X_train, y_train, X_test, metr)\n",
    "    print(prob)    \n",
    "    print 'AUC-ROC:', sklearn.metrics.roc_auc_score(y_test, prob)\n",
    "    print ''"
   ]
  },
  {
   "cell_type": "markdown",
   "metadata": {},
   "source": [
    "## Результаты\n",
    "\n",
    "Метрика 0: 0.829\n",
    "\n",
    "Метрика 1: 0.833\n",
    "\n",
    "Метрика 2: 0.821\n",
    "\n",
    "Метрика 1 оказалась лучшей."
   ]
  },
  {
   "cell_type": "markdown",
   "metadata": {},
   "source": [
    "#### 2 (бонус). Подберите лучшее (на тестовой выборке) число соседей $k$ для каждой из функций расстояния. Какое наилучшее качество удалось достичь?"
   ]
  },
  {
   "cell_type": "code",
   "execution_count": 100,
   "metadata": {
    "collapsed": false
   },
   "outputs": [
    {
     "name": "stdout",
     "output_type": "stream",
     "text": [
      "mertic: 0 K: 2\n",
      "...................................................................................................\n",
      "res:  0.754762436194\n",
      "mertic: 0 K: 3\n",
      "...................................................................................................\n",
      "res:  0.807175921433\n",
      "mertic: 0 K: 4\n",
      "...................................................................................................\n",
      "res:  0.821479763443\n",
      "mertic: 0 K: 5\n",
      "...................................................................................................\n",
      "res:  0.825476540143\n",
      "mertic: 0 K: 6\n",
      "...................................................................................................\n",
      "res:  0.830887284427\n",
      "mertic: 0 K: 7\n",
      "...................................................................................................\n",
      "res:  0.836308721527\n",
      "mertic: 0 K: 8\n",
      "...................................................................................................\n",
      "res:  0.835008690833\n",
      "mertic: 0 K: 9\n",
      "...................................................................................................\n",
      "res:  0.83138229888\n",
      "mertic: 0 K: 10\n",
      "...................................................................................................\n",
      "res:  0.829499015542\n",
      "mertic: 0 K: 11\n",
      "...................................................................................................\n",
      "res:  0.827689952923\n",
      "mertic: 0 K: 12\n",
      "...................................................................................................\n",
      "res:  0.829695978998\n",
      "mertic: 0 K: 13\n",
      "...................................................................................................\n",
      "res:  0.828228008203\n",
      "mertic: 0 K: 14\n",
      "...................................................................................................\n",
      "res:  0.828763817094\n",
      "mertic: 0 K: 15\n",
      "...................................................................................................\n",
      "res:  0.826610158282\n",
      "mertic: 0 K: 16\n",
      "...................................................................................................\n",
      "res:  0.824251089589\n",
      "mertic: 0 K: 17\n",
      "...................................................................................................\n",
      "res:  0.821335455363\n",
      "mertic: 0 K: 18\n",
      "...................................................................................................\n",
      "res:  0.821767121623\n",
      "mertic: 0 K: 19\n",
      "...................................................................................................\n",
      "res:  0.820306159565\n",
      "mertic: 0 K: 20\n",
      "...................................................................................................\n",
      "res:  0.818715805455\n",
      "mertic: 1 K: 2\n",
      "...................................................................................................\n",
      "res:  0.758153316642\n",
      "mertic: 1 K: 3\n",
      "...................................................................................................\n",
      "res:  0.803820174521\n",
      "mertic: 1 K: 4\n",
      "...................................................................................................\n",
      "res:  0.822661454324\n",
      "mertic: 1 K: 5\n",
      "...................................................................................................\n",
      "res:  0.830764721401\n",
      "mertic: 1 K: 6\n",
      "...................................................................................................\n",
      "res:  0.833390930767\n",
      "mertic: 1 K: 7\n",
      "...................................................................................................\n",
      "res:  0.834311770867\n",
      "mertic: 1 K: 8\n",
      "...................................................................................................\n",
      "res:  0.830882162659\n",
      "mertic: 1 K: 9\n",
      "...................................................................................................\n",
      "res:  0.830937513703\n",
      "mertic: 1 K: 10\n",
      "...................................................................................................\n",
      "res:  0.833094317461\n",
      "mertic: 1 K: 11\n",
      "...................................................................................................\n",
      "res:  0.832525531568\n",
      "mertic: 1 K: 12\n",
      "...................................................................................................\n",
      "res:  0.83295899494\n",
      "mertic: 1 K: 13\n",
      "...................................................................................................\n",
      "res:  0.832311944827\n",
      "mertic: 1 K: 14\n",
      "...................................................................................................\n",
      "res:  0.832074636211\n",
      "mertic: 1 K: 15\n",
      "...................................................................................................\n",
      "res:  0.829923583211\n",
      "mertic: 1 K: 16\n",
      "...................................................................................................\n",
      "res:  0.828935171707\n",
      "mertic: 1 K: 17\n",
      "...................................................................................................\n",
      "res:  0.827647541084\n",
      "mertic: 1 K: 18\n",
      "...................................................................................................\n",
      "res:  0.825880710592\n",
      "mertic: 1 K: 19\n",
      "...................................................................................................\n",
      "res:  0.825702437099\n",
      "mertic: 1 K: 20\n",
      "...................................................................................................\n",
      "res:  0.823062569683\n",
      "mertic: 2 K: 2\n",
      "...................................................................................................\n",
      "res:  0.756791555156\n",
      "mertic: 2 K: 3\n",
      "...................................................................................................\n",
      "res:  0.793034897755\n",
      "mertic: 2 K: 4\n",
      "...................................................................................................\n",
      "res:  0.805132066154\n",
      "mertic: 2 K: 5\n",
      "...................................................................................................\n",
      "res:  0.808254008817\n",
      "mertic: 2 K: 6\n",
      "...................................................................................................\n",
      "res:  0.816170106698\n",
      "mertic: 2 K: 7\n",
      "...................................................................................................\n",
      "res:  0.817918876216\n",
      "mertic: 2 K: 8\n",
      "...................................................................................................\n",
      "res:  0.819212706875\n",
      "mertic: 2 K: 9\n",
      "...................................................................................................\n",
      "res:  0.821608885927\n",
      "mertic: 2 K: 10\n",
      "...................................................................................................\n",
      "res:  0.821046030503\n",
      "mertic: 2 K: 11\n",
      "...................................................................................................\n",
      "res:  0.820050430552\n",
      "mertic: 2 K: 12\n",
      "...................................................................................................\n",
      "res:  0.818770797077\n",
      "mertic: 2 K: 13\n",
      "...................................................................................................\n",
      "res:  0.818844927939\n",
      "mertic: 2 K: 14\n",
      "...................................................................................................\n",
      "res:  0.816881313703\n",
      "mertic: 2 K: 15\n",
      "...................................................................................................\n",
      "res:  0.811813817777\n",
      "mertic: 2 K: 16\n",
      "...................................................................................................\n",
      "res:  0.809671570625\n",
      "mertic: 2 K: 17\n",
      "...................................................................................................\n",
      "res:  0.811544161148\n",
      "mertic: 2 K: 18\n",
      "...................................................................................................\n",
      "res:  0.809208454908\n",
      "mertic: 2 K: 19\n",
      "...................................................................................................\n",
      "res:  0.807784513353\n",
      "mertic: 2 K: 20\n",
      "...................................................................................................\n",
      "res:  0.805996566798\n"
     ]
    }
   ],
   "source": [
    "K = np.arange(2, 21)\n",
    "res = np.zeros((3, K.size))\n",
    "for metr in range(3):\n",
    "    for i in range(K.size):\n",
    "        print 'mertic:', metr, 'K:', K[i]\n",
    "        prob = my_knn(X_train, y_train, X_test, metr, n_neighbors=K[i])\n",
    "        res[metr, i] = sklearn.metrics.roc_auc_score(y_test, prob)\n",
    "        print 'res: ', res[metr, i]"
   ]
  },
  {
   "cell_type": "code",
   "execution_count": 102,
   "metadata": {
    "collapsed": false
   },
   "outputs": [
    {
     "name": "stdout",
     "output_type": "stream",
     "text": [
      "metric 0 max:  0.836308721527 K: 7\n",
      "metric 1 max:  0.834311770867 K: 7\n",
      "metric 2 max:  0.821608885927 K: 9\n"
     ]
    },
    {
     "data": {
      "image/png": "[encoded data removed]",
      "text/plain": [
       "<matplotlib.figure.Figure at 0x7f9fff89cb10>"
      ]
     },
     "metadata": {},
     "output_type": "display_data"
    }
   ],
   "source": [
    "for i in range(3):\n",
    "    print 'metric', i,  'max: ', np.max(res[i, :]), 'K:', K[np.argmax(res[i, :])]\n",
    "\n",
    "plt.figure(figsize=(8, 4))\n",
    "plt.grid()\n",
    "plt.plot(K, res[0, :], 'x-', label='metric0')\n",
    "plt.plot(K, res[1, :], 'o-', label='metric1')\n",
    "plt.plot(K, res[2, :], 's-', label='metric2')\n",
    "plt.xlabel('n_neighbors')\n",
    "plt.ylabel('AUC-ROC')\n",
    "plt.legend(loc=4)\n",
    "plt.show()"
   ]
  },
  {
   "cell_type": "markdown",
   "metadata": {},
   "source": [
    "## Результаты \n",
    "\n",
    "Метрика 0. Максимальное качество  0.836  при k = 7.\n",
    "\n",
    "Метрика 1. Максимальное качество  0.834  при k = 7.\n",
    "\n",
    "Метрика 2. Максимальное качество  0.821  при k = 9.\n",
    "\n",
    "Наилучшее качество  0.836"
   ]
  },
  {
   "cell_type": "markdown",
   "metadata": {},
   "source": [
    "#### 3. Реализуйте счетчики (http://blogs.technet.com/b/machinelearning/archive/2015/02/17/big-learning-made-easy-with-counts.aspx), которые заменят категориальные признаки на вещественные.\n",
    "\n",
    "А именно, каждый категориальный признак нужно заменить на три: \n",
    "1. Число `counts` объектов в обучающей выборке с таким же значением признака.\n",
    "2. Число `clicks` объектов первого класса ($y = 1$) в обучающей выборке с таким же значением признака.\n",
    "3. Сглаженное отношение двух предыдущих величин: (`clicks` + 1) / (`counts` + 2).\n",
    "\n",
    "Поскольку признаки, содержащие информацию о целевой переменной, могут привести к переобучению, может оказаться полезным сделать *фолдинг*: разбить обучающую выборку на $n$ частей, и для $i$-й части считать `counts` и `clicks` по всем остальным частям. Для тестовой выборки используются счетчики, посчитанный по всей обучающей выборке. Реализуйте и такой вариант. Можно использовать $n = 3$.\n",
    "\n",
    "#### Посчитайте на тесте AUC-ROC метода $k$ ближайших соседей с евклидовой метрикой для выборки, где категориальные признаки заменены на счетчики. Сравните по AUC-ROC два варианта формирования выборки — с фолдингом и без. Не забудьте подобрать наилучшее число соседей $k$."
   ]
  },
  {
   "cell_type": "code",
   "execution_count": 7,
   "metadata": {
    "collapsed": true
   },
   "outputs": [],
   "source": [
    "def categorial_to_real(X_train, y_train, X, B=8000):\n",
    "    d = X_train.shape[1]\n",
    "    features = np.zeros((X.shape[0], 3 * d))\n",
    "    N = X.shape[0]\n",
    "    for k in range(d):\n",
    "        for i in range(0, N, B):\n",
    "            r = min(N, i + B)\n",
    "            E = X[i:r, np.newaxis, k] == X_train[np.newaxis, :, k] # E[i, j] = X[i, k] == X_train[j, k]\n",
    "            features[i:r, 3 * k] = np.sum(E, axis=1) #counts\n",
    "            features[i:r, 3 * k + 1] = np.sum(E * y_train[np.newaxis, :], axis = 1) #clicks\n",
    "            features[i:r, 3 * k + 2] = (features[i:r, 3 * k + 1] + 1.0) / (features[i:r, 3 * k] + 2)\n",
    "        sys.stdout.write('#')\n",
    "        sys.stdout.flush()\n",
    "    sys.stdout.write('\\n')\n",
    "    return features\n",
    "\n",
    "# фолдинг\n",
    "def train_folds(X_train, y_train, N = 3):\n",
    "    L = X_train.shape[0]\n",
    "    d = X_train.shape[1]\n",
    "    s = (L + N - 1) / N\n",
    "    ind = np.arange(L)\n",
    "    F = np.zeros((L, 3 * d))\n",
    "    for i in range(0, L, s):\n",
    "        r = min(L, i + s)\n",
    "        in_fold = np.arange(i, r)        \n",
    "        out_of_fold = np.delete(ind, in_fold)        \n",
    "        f = categorial_to_real(X_train[out_of_fold, :], y_train[out_of_fold], X_train[in_fold, :])\n",
    "        F[in_fold, :] = f\n",
    "    \n",
    "    # counts и clicks умножаются на N / (N - 1) \n",
    "    # для того, чтобы признаки на обучающей и тестовой выборке\n",
    "    # находились в одних и тех же диапазонах\n",
    "    \n",
    "    p = N  * 1.0 / (N - 1)\n",
    "    for k in range(d):\n",
    "        F[:, 3 * k] *= p\n",
    "        F[:, 3 * k + 1] *= p\n",
    "        F[:, 3 * k + 2] = (F[:, 3 * k + 1] + 1.0) / (F[:, 3 * k] + 2)\n",
    "       \n",
    "    return F"
   ]
  },
  {
   "cell_type": "code",
   "execution_count": 104,
   "metadata": {
    "collapsed": false
   },
   "outputs": [],
   "source": [
    "F_train_folds = train_folds(X_train, y_train)\n",
    "F_train_nofolds = categorial_to_real(X_train, y_train, X_train)\n",
    "F_test = categorial_to_real(X_train, y_train, X_test)"
   ]
  },
  {
   "cell_type": "code",
   "execution_count": 8,
   "metadata": {
    "collapsed": false
   },
   "outputs": [],
   "source": [
    "def get_score( X_train, y_train, X_test, y_test, n_neighbors):\n",
    "    classifier = sklearn.neighbors.KNeighborsClassifier(n_neighbors=n_neighbors)\n",
    "    classifier.fit(X_train, y_train)\n",
    "    prob = classifier.predict_proba(X_test)[:, 1]\n",
    "    return sklearn.metrics.roc_auc_score(y_test, prob)"
   ]
  },
  {
   "cell_type": "code",
   "execution_count": 106,
   "metadata": {
    "collapsed": false
   },
   "outputs": [
    {
     "name": "stdout",
     "output_type": "stream",
     "text": [
      "Folding\n",
      ".................................................\n",
      "No folding\n",
      ".................................................\n"
     ]
    }
   ],
   "source": [
    "K = np.arange(2, 51)\n",
    "print 'Folding'\n",
    "folds_res = np.array([])\n",
    "for i in range(K.size):    \n",
    "    folds_res = np.append(folds_res, get_score(F_train_folds, y_train, F_test, y_test, K[i]))\n",
    "    sys.stdout.write('.')\n",
    "    sys.stdout.flush()    \n",
    "print ''\n",
    "\n",
    "print 'No folding'\n",
    "nofolds_res = np.array([])\n",
    "for i in range(K.size):\n",
    "    nofolds_res = np.append(nofolds_res, get_score(F_train_nofolds, y_train, F_test, y_test, K[i]))\n",
    "    sys.stdout.write('.')\n",
    "    sys.stdout.flush()   \n",
    "print ''"
   ]
  },
  {
   "cell_type": "code",
   "execution_count": 107,
   "metadata": {
    "collapsed": false
   },
   "outputs": [
    {
     "name": "stdout",
     "output_type": "stream",
     "text": [
      "Folding. Max: 0.77653507495 k: 19\n",
      "No folding. Max: 0.796091066126 k: 14\n"
     ]
    },
    {
     "data": {
      "image/png": "[encoded data removed]",
      "text/plain": [
       "<matplotlib.figure.Figure at 0x7f9fff832090>"
      ]
     },
     "metadata": {},
     "output_type": "display_data"
    }
   ],
   "source": [
    "print 'Folding. Max:', np.max(folds_res), 'k:', K[np.argmax(folds_res)]\n",
    "print 'No folding. Max:', np.max(nofolds_res), 'k:', K[np.argmax(nofolds_res)]\n",
    "\n",
    "plt.figure(figsize=(8, 4))\n",
    "plt.grid()\n",
    "plt.plot(K, folds_res, 'o-', label='folding')\n",
    "plt.plot(K, nofolds_res, 's-', label='no folding')\n",
    "plt.xlabel('n_neighbors')\n",
    "plt.ylabel('AUC-ROC')\n",
    "plt.legend(loc=4)\n",
    "plt.show()"
   ]
  },
  {
   "cell_type": "markdown",
   "metadata": {},
   "source": [
    "## Результаты\n",
    "С фолдингом.  Максимальное качество 0.776 при k = 19\n",
    "\n",
    "Без фолдинга. Максимальное качетсво 0.796 при k = 14"
   ]
  },
  {
   "cell_type": "markdown",
   "metadata": {},
   "source": [
    "#### 4. Добавьте в исходную выборку парные признаки — то есть для каждой пары $f_i$, $f_j$ исходных категориальных признаков добавьте новый категориальный признак $f_{ij}$, значение которого является конкатенацией значений $f_i$ и $f_j$. Посчитайте счетчики для этой выборки, найдите качество метода $k$ ближайших соседей с наилучшим $k$ (с фолдингом и без)."
   ]
  },
  {
   "cell_type": "code",
   "execution_count": 9,
   "metadata": {
    "collapsed": false
   },
   "outputs": [],
   "source": [
    "def pair_features(X):\n",
    "    d = X.shape[1]\n",
    "    X_pairs = np.recarray(shape=(X.shape[0], d + d * (d - 1) / 2), dtype=[('f1', int), ('f2', int)])\n",
    "    cnt = 0\n",
    "    for i in range(X.shape[1]):\n",
    "        for j in range(i, X.shape[1]):\n",
    "            X_pairs[:, cnt] = np.core.rec.fromarrays([X[:, i], X[:, j]], dtype=[('f1', int), ('f2', int)])\n",
    "            cnt = cnt + 1\n",
    "    return X_pairs"
   ]
  },
  {
   "cell_type": "code",
   "execution_count": 10,
   "metadata": {
    "collapsed": false
   },
   "outputs": [],
   "source": [
    "X_train_pairs = pair_features(X_train)\n",
    "X_test_pairs = pair_features(X_test)"
   ]
  },
  {
   "cell_type": "code",
   "execution_count": 11,
   "metadata": {
    "collapsed": false
   },
   "outputs": [
    {
     "name": "stdout",
     "output_type": "stream",
     "text": [
      "#############################################\n"
     ]
    }
   ],
   "source": [
    "F_train_pairs_nofold = categorial_to_real(X_train_pairs, y_train, X_train_pairs)"
   ]
  },
  {
   "cell_type": "code",
   "execution_count": 13,
   "metadata": {
    "collapsed": false
   },
   "outputs": [
    {
     "name": "stdout",
     "output_type": "stream",
     "text": [
      "#############################################\n",
      "#############################################\n",
      "#############################################\n"
     ]
    }
   ],
   "source": [
    "F_train_pairs_folds = train_folds(X_train_pairs, y_train)"
   ]
  },
  {
   "cell_type": "code",
   "execution_count": 14,
   "metadata": {
    "collapsed": false
   },
   "outputs": [
    {
     "name": "stdout",
     "output_type": "stream",
     "text": [
      "#############################################\n"
     ]
    }
   ],
   "source": [
    "F_test_pairs = categorial_to_real(X_train_pairs, y_train, X_test_pairs)"
   ]
  },
  {
   "cell_type": "code",
   "execution_count": 89,
   "metadata": {
    "collapsed": false
   },
   "outputs": [
    {
     "name": "stdout",
     "output_type": "stream",
     "text": [
      "Folding\n",
      ".................................................\n",
      "No folding\n",
      ".................................................\n"
     ]
    }
   ],
   "source": [
    "K = np.arange(2, 51)\n",
    "print 'Folding'\n",
    "pairs_folds_res = np.array([])\n",
    "for i in range(K.size):    \n",
    "    pairs_folds_res = np.append(pairs_folds_res, get_score(F_train_pairs_folds, y_train, F_test_pairs, y_test, K[i]))\n",
    "    sys.stdout.write('.')\n",
    "    sys.stdout.flush()    \n",
    "print ''\n",
    "\n",
    "print 'No folding'\n",
    "pairs_nofolds_res = np.array([])\n",
    "for i in range(K.size):\n",
    "    pairs_nofolds_res = np.append(pairs_nofolds_res, get_score(F_train_pairs_nofold, y_train, F_test_pairs, y_test, K[i]))\n",
    "    sys.stdout.write('.')\n",
    "    sys.stdout.flush()   \n",
    "print ''"
   ]
  },
  {
   "cell_type": "code",
   "execution_count": 90,
   "metadata": {
    "collapsed": false
   },
   "outputs": [
    {
     "name": "stdout",
     "output_type": "stream",
     "text": [
      "Folding. Max: 0.790223316304 k: 18\n",
      "No folding. Max: 0.801859076241 k: 8\n"
     ]
    },
    {
     "data": {
      "image/png": "[encoded data removed]",
      "text/plain": [
       "<matplotlib.figure.Figure at 0x7f61fde69dd0>"
      ]
     },
     "metadata": {},
     "output_type": "display_data"
    }
   ],
   "source": [
    "print 'Folding. Max:', np.max(pairs_folds_res), 'k:', K[np.argmax(pairs_folds_res)]\n",
    "print 'No folding. Max:', np.max(pairs_nofolds_res), 'k:', K[np.argmax(pairs_nofolds_res)]\n",
    "\n",
    "plt.figure(figsize=(8, 4))\n",
    "plt.grid()\n",
    "plt.plot(K, pairs_folds_res, 'o-', label='folding')\n",
    "plt.plot(K, pairs_nofolds_res, 's-', label='no folding')\n",
    "plt.xlabel('n_neighbors')\n",
    "plt.ylabel('AUC-ROC')\n",
    "plt.legend(loc=4)\n",
    "plt.show()"
   ]
  },
  {
   "cell_type": "markdown",
   "metadata": {},
   "source": [
    "## Результаты\n",
    "С фолдингом.  Максимальное качество 0.790 при k = 18\n",
    "\n",
    "Без фолдинга. Максимальное качетсво 0.802 при k = 8"
   ]
  },
  {
   "cell_type": "markdown",
   "metadata": {},
   "source": [
    "## Часть 2: Решающие деревья и леса"
   ]
  },
  {
   "cell_type": "markdown",
   "metadata": {},
   "source": [
    "#### 1. Возьмите из предыдущей части выборку с парными признаками, преобразованную с помощью счетчиков без фолдинга. Настройте решающее дерево, подобрав оптимальные значения параметров `max_depth` и `min_samples_leaf`. Какой наилучший AUC-ROC на контроле удалось получить?"
   ]
  },
  {
   "cell_type": "code",
   "execution_count": 16,
   "metadata": {
    "collapsed": false
   },
   "outputs": [
    {
     "name": "stdout",
     "output_type": "stream",
     "text": [
      "............................................"
     ]
    }
   ],
   "source": [
    "depth = np.arange(1, 36)\n",
    "samples = np.arange(1, 11000, 250)\n",
    "test_score = np.array([])\n",
    "train_score = np.array([])\n",
    "for s in samples:\n",
    "    for d in depth:\n",
    "        tree_classifier = sklearn.tree.DecisionTreeClassifier(max_depth=d, min_samples_leaf=s)\n",
    "        tree_classifier.fit(F_train_pairs_nofold, y_train)\n",
    "        prob = tree_classifier.predict_proba(F_test_pairs)[:, 1]\n",
    "        test_score = np.append(test_score, sklearn.metrics.roc_auc_score(y_test, prob))\n",
    "        prob = tree_classifier.predict_proba(F_train_pairs_nofold)[:, 1]\n",
    "        train_score = np.append(train_score, sklearn.metrics.roc_auc_score(y_train, prob))\n",
    "    sys.stdout.write('.')\n",
    "    sys.stdout.flush()"
   ]
  },
  {
   "cell_type": "code",
   "execution_count": 25,
   "metadata": {
    "collapsed": false
   },
   "outputs": [
    {
     "name": "stdout",
     "output_type": "stream",
     "text": [
      "Best score: 0.802384641595 (train score:  0.922784087712)\n",
      "max_depth: 2\n",
      "min_samples_leaf: 1751\n"
     ]
    }
   ],
   "source": [
    "id = np.argmax(test_score)\n",
    "print 'Best score:', np.max(test_score), '(train score:', ' ' + str(train_score[id]) + ')'\n",
    "d_id = id % depth.size\n",
    "s_id = id / depth.size\n",
    "print 'max_depth:', depth[d_id]\n",
    "print 'min_samples_leaf:', samples[s_id]"
   ]
  },
  {
   "cell_type": "code",
   "execution_count": 64,
   "metadata": {
    "collapsed": false
   },
   "outputs": [
    {
     "data": {
      "image/png": "[encoded data removed]",
      "text/plain": [
       "<matplotlib.figure.Figure at 0x7f61f622b690>"
      ]
     },
     "metadata": {},
     "output_type": "display_data"
    }
   ],
   "source": [
    "plt.plot([0, 1.1], [0, 1.1], '-', color='black')\n",
    "plt.scatter(train_score, test_score, s=50, alpha=0.2)\n",
    "plt.grid()\n",
    "plt.xlim([0.4, 1.1])\n",
    "plt.ylim([0.4, 1.1])\n",
    "plt.yticks(fontsize=12)\n",
    "plt.xticks(fontsize=12)\n",
    "plt.xlabel('Train score', fontsize=16)\n",
    "plt.ylabel('Test score', fontsize=16)\n",
    "plt.show()"
   ]
  },
  {
   "cell_type": "code",
   "execution_count": 84,
   "metadata": {
    "collapsed": false
   },
   "outputs": [
    {
     "data": {
      "image/png": "[encoded data removed]",
      "text/plain": [
       "<matplotlib.figure.Figure at 0x7f61f5cfee90>"
      ]
     },
     "metadata": {},
     "output_type": "display_data"
    }
   ],
   "source": [
    "fig, (ax1, ax2) = plt.subplots(2, 1, sharex=True, figsize=(5, 9))\n",
    "ax1.grid()\n",
    "ax1.scatter(np.tile(depth, [samples.size]), train_score)\n",
    "ax1.set_ylabel('Train score', fontsize=16)\n",
    "ax2.grid()\n",
    "ax2.scatter(np.tile(depth, [samples.size]), test_score)\n",
    "ax2.set_ylabel('Test score', fontsize=16)\n",
    "ax2.set_xlabel('max_depth', fontsize=16)\n",
    "plt.show()"
   ]
  },
  {
   "cell_type": "code",
   "execution_count": 106,
   "metadata": {
    "collapsed": false
   },
   "outputs": [
    {
     "data": {
      "image/png": "[encoded data removed]",
      "text/plain": [
       "<matplotlib.figure.Figure at 0x7f61fdedf7d0>"
      ]
     },
     "metadata": {},
     "output_type": "display_data"
    },
    {
     "data": {
      "text/plain": [
       "array([    1,     1,   251,   251,   501,   501,   751,   751,  1001,\n",
       "        1001,  1251,  1251,  1501,  1501,  1751,  1751,  2001,  2001,\n",
       "        2251,  2251,  2501,  2501,  2751,  2751,  3001,  3001,  3251,\n",
       "        3251,  3501,  3501,  3751,  3751,  4001,  4001,  4251,  4251,\n",
       "        4501,  4501,  4751,  4751,  5001,  5001,  5251,  5251,  5501,\n",
       "        5501,  5751,  5751,  6001,  6001,  6251,  6251,  6501,  6501,\n",
       "        6751,  6751,  7001,  7001,  7251,  7251,  7501,  7501,  7751,\n",
       "        7751,  8001,  8001,  8251,  8251,  8501,  8501,  8751,  8751,\n",
       "        9001,  9001,  9251,  9251,  9501,  9501,  9751,  9751, 10001,\n",
       "       10001, 10251, 10251, 10501, 10501, 10751, 10751])"
      ]
     },
     "execution_count": 106,
     "metadata": {},
     "output_type": "execute_result"
    }
   ],
   "source": [
    "fig, (ax1, ax2) = plt.subplots(2, 1, sharex=True, figsize=(5, 9))\n",
    "ax1.grid()\n",
    "ax1.scatter(np.repeat(samples, [depth.size]), train_score)\n",
    "ax1.set_ylabel('Train score', fontsize=16)\n",
    "ax2.grid()\n",
    "ax2.scatter(np.repeat(samples, [depth.size]), test_score)\n",
    "ax2.set_ylabel('Test score', fontsize=16)\n",
    "ax2.set_xlabel('min_samples_leaf', fontsize=16)\n",
    "plt.show()"
   ]
  },
  {
   "cell_type": "markdown",
   "metadata": {},
   "source": [
    "## Результаты\n",
    "Как видно из графиков, дерево переобучается, однако, изменяя параметр `min_samples_leaf`, можно частично решить эту проблему.\n",
    "\n",
    "Наилучшее качество на тестовой выборке: 0.802 (при качестве на обучающей выборке:  0.923)\n",
    "\n",
    "max_depth: 2\n",
    "\n",
    "min_samples_leaf: 1751\n"
   ]
  },
  {
   "cell_type": "markdown",
   "metadata": {},
   "source": [
    "#### 2. Настройте случайный лес, подобрав оптимальное число деревьев `n_estimators`. Какое качество на тестовой выборке он дает?"
   ]
  },
  {
   "cell_type": "code",
   "execution_count": 226,
   "metadata": {
    "collapsed": false
   },
   "outputs": [
    {
     "name": "stdout",
     "output_type": "stream",
     "text": [
      ".................................................."
     ]
    }
   ],
   "source": [
    "n_est = np.arange(1, 100, 2)\n",
    "ens_train_score = np.array([])\n",
    "ens_test_score = np.array([])\n",
    "random_forest = sklearn.ensemble.RandomForestClassifier(n_estimators=0, warm_start=True, \n",
    "                                                        min_samples_leaf=1011, max_depth=4)\n",
    "for cnt in n_est:\n",
    "    random_forest = random_forest.set_params(n_estimators=cnt)\n",
    "    random_forest.fit(F_train_pairs_nofold, y_train)\n",
    "    prob = random_forest.predict_proba(F_test_pairs)[:, 1]\n",
    "    score = sklearn.metrics.roc_auc_score(y_test, prob)\n",
    "    ens_test_score = np.append(ens_test_score, score)\n",
    "    prob = random_forest.predict_proba(F_train_pairs_nofold)[:, 1]\n",
    "    score = sklearn.metrics.roc_auc_score(y_train, prob)\n",
    "    ens_train_score = np.append(ens_train_score, score)\n",
    "    sys.stdout.write('.')\n",
    "    sys.stdout.flush()"
   ]
  },
  {
   "cell_type": "code",
   "execution_count": 227,
   "metadata": {
    "collapsed": false
   },
   "outputs": [
    {
     "data": {
      "image/png": "[encoded data removed]",
      "text/plain": [
       "<matplotlib.figure.Figure at 0x7f61fde69550>"
      ]
     },
     "metadata": {},
     "output_type": "display_data"
    },
    {
     "name": "stdout",
     "output_type": "stream",
     "text": [
      "best score: 0.83060127408 (train score: 0.962594514523)\n",
      "n_estimators: 11\n"
     ]
    }
   ],
   "source": [
    "plt.plot(n_est, ens_test_score, label='Test score')\n",
    "plt.plot(n_est, ens_train_score, label='Train score')\n",
    "plt.legend(loc=4)\n",
    "plt.grid()\n",
    "plt.xlabel('n_estimators', fontsize=16)\n",
    "plt.ylabel('score', fontsize=16)\n",
    "plt.show()\n",
    "\n",
    "print 'best score:', np.max(ens_test_score), '(train score: ' + str(ens_train_score[np.argmax(ens_test_score)])+')'\n",
    "print 'n_estimators:', n_est[np.argmax(ens_test_score)]"
   ]
  },
  {
   "cell_type": "markdown",
   "metadata": {},
   "source": [
    "## Результаты\n",
    "\n",
    "Наилучшее качество на тестовой выборке: 0.831 (при качестве на обучающей выборке:  0.962)\n",
    "\n",
    "n_estimators: 11\n"
   ]
  },
  {
   "cell_type": "markdown",
   "metadata": {},
   "source": [
    "#### 3. Возьмите выборку с парными признаками, для которой счетчики посчитаны с фолдингом. Обучите на ней случайный лес, подобрав число деревьев. Какое качество на тестовой выборке он дает? Чем вы можете объяснить изменение результата по сравнению с предыдущим пунктом?"
   ]
  },
  {
   "cell_type": "code",
   "execution_count": 223,
   "metadata": {
    "collapsed": false
   },
   "outputs": [
    {
     "name": "stdout",
     "output_type": "stream",
     "text": [
      "................................................."
     ]
    }
   ],
   "source": [
    "n_est = np.arange(10, 500, 10)\n",
    "ens_train_score = np.array([])\n",
    "ens_test_score = np.array([])\n",
    "random_forest = sklearn.ensemble.RandomForestClassifier(n_estimators=0, warm_start=True, \n",
    "                                                        min_samples_leaf=3)\n",
    "for cnt in n_est:\n",
    "    random_forest = random_forest.set_params(n_estimators=cnt)\n",
    "    random_forest.fit(F_train_pairs_folds, y_train)\n",
    "    prob = random_forest.predict_proba(F_test_pairs)[:, 1]\n",
    "    score = sklearn.metrics.roc_auc_score(y_test, prob)\n",
    "    ens_test_score = np.append(ens_test_score, score)\n",
    "    prob = random_forest.predict_proba(F_train_pairs_folds)[:, 1]\n",
    "    score = sklearn.metrics.roc_auc_score(y_train, prob)\n",
    "    ens_train_score = np.append(ens_train_score, score)\n",
    "    sys.stdout.write('.')\n",
    "    sys.stdout.flush()"
   ]
  },
  {
   "cell_type": "code",
   "execution_count": 225,
   "metadata": {
    "collapsed": false
   },
   "outputs": [
    {
     "data": {
      "image/png": "[encoded data removed]",
      "text/plain": [
       "<matplotlib.figure.Figure at 0x7f61fdecca90>"
      ]
     },
     "metadata": {},
     "output_type": "display_data"
    },
    {
     "name": "stdout",
     "output_type": "stream",
     "text": [
      "best score: 0.86656354839 (train score: 0.997118308575)\n",
      "n_estimators: 270\n"
     ]
    }
   ],
   "source": [
    "plt.plot(n_est, ens_test_score, label='Test score')\n",
    "plt.plot(n_est, ens_train_score, label='Train score')\n",
    "plt.legend(loc=4)\n",
    "plt.grid()\n",
    "plt.xlabel('n_estimators', fontsize=16)\n",
    "plt.ylabel('score', fontsize=16)\n",
    "plt.show()\n",
    "\n",
    "print 'best score:', np.max(ens_test_score), '(train score: ' + str(ens_train_score[np.argmax(ens_test_score)])+')'\n",
    "print 'n_estimators:', n_est[np.argmax(ens_test_score)]"
   ]
  },
  {
   "cell_type": "markdown",
   "metadata": {},
   "source": [
    "## Результаты\n",
    "\n",
    "Наилучшее качество на тестовой выборке: 0.867 (при качестве на обучающей выборке:  0.997)\n",
    "\n",
    "n_estimators: 270\n",
    "\n",
    "Улучшение качетсва при использовании фолдинга можно объяснить тем, что при подсчете счетчиков без фолдинга в признаки вносится информация о классе объекта, что вызывает проблемы, связанные с переобучением.\n",
    "    \n",
    "    "
   ]
  },
  {
   "cell_type": "code",
   "execution_count": null,
   "metadata": {
    "collapsed": true
   },
   "outputs": [],
   "source": []
  }
 ],
 "metadata": {
  "kernelspec": {
   "display_name": "Python 2",
   "language": "python",
   "name": "python2"
  },
  "language_info": {
   "codemirror_mode": {
    "name": "ipython",
    "version": 2
   },
   "file_extension": ".py",
   "mimetype": "text/x-python",
   "name": "python",
   "nbconvert_exporter": "python",
   "pygments_lexer": "ipython2",
   "version": "2.7.9"
  }
 },
 "nbformat": 4,
 "nbformat_minor": 0
}

{
 "cells": [
  {
   "cell_type": "markdown",
   "metadata": {},
   "source": [
    "# Лабораторная работа 1. Язык Python, основные библиотеки для анализа данных."
   ]
  },
  {
   "cell_type": "markdown",
   "metadata": {},
   "source": [
    "ФИО: Гарипов Тимур Исмагилевич\n",
    "\n",
    "Группа: 317"
   ]
  },
  {
   "cell_type": "code",
   "execution_count": 3,
   "metadata": {
    "collapsed": false
   },
   "outputs": [],
   "source": [
    "import numpy as np\n",
    "import pandas as pd"
   ]
  },
  {
   "cell_type": "markdown",
   "metadata": {},
   "source": [
    "## Часть 1: Python"
   ]
  },
  {
   "cell_type": "markdown",
   "metadata": {},
   "source": [
    "#### 1. Напишите код, который сформирует список всех натуральных чисел, не превосходящих 100, которые делятся на 7 и не делятся на 5. Нельзя использовать циклы — выполните это задание с помощью list comprehension."
   ]
  },
  {
   "cell_type": "code",
   "execution_count": 66,
   "metadata": {
    "collapsed": false
   },
   "outputs": [
    {
     "data": {
      "text/plain": [
       "[7, 14, 21, 28, 42, 49, 56, 63, 77, 84, 91, 98]"
      ]
     },
     "execution_count": 66,
     "metadata": {},
     "output_type": "execute_result"
    }
   ],
   "source": [
    "arr = [i for i in range(7, 101, 7) if (i % 5 != 0)]\n",
    "arr"
   ]
  },
  {
   "cell_type": "markdown",
   "metadata": {},
   "source": [
    "#### 2. Напишите функцию `sort_tokens(s)`, которая принимает на вход строку, разделяет ее на токены по запятым, сортирует токены с помощью функции `sorted()` и снова соединяет их в одну строку через запятые. Например, для строки `u\"ночь,фонарь,улица\"` функция должна выдать `u\"ночь,улица,фонарь\"`. Придумайте несколько входных строк и протестируйте функцию на них."
   ]
  },
  {
   "cell_type": "markdown",
   "metadata": {},
   "source": [
    "Обратите внимание, что склеить строки можно с помощью конструкции `'x'.join(...)`. Например:"
   ]
  },
  {
   "cell_type": "code",
   "execution_count": 67,
   "metadata": {
    "collapsed": false
   },
   "outputs": [
    {
     "data": {
      "text/plain": [
       "'i! am! very! excited! :-)'"
      ]
     },
     "execution_count": 67,
     "metadata": {},
     "output_type": "execute_result"
    }
   ],
   "source": [
    "'! '.join(['i', 'am', 'very', 'excited', ':-)'])"
   ]
  },
  {
   "cell_type": "code",
   "execution_count": 68,
   "metadata": {
    "collapsed": true
   },
   "outputs": [],
   "source": [
    "def sort_tokens(s):\n",
    "    return ','.join(sorted(s.split(',')))\n"
   ]
  },
  {
   "cell_type": "code",
   "execution_count": 69,
   "metadata": {
    "collapsed": false
   },
   "outputs": [
    {
     "name": "stdout",
     "output_type": "stream",
     "text": [
      "ночь,улица,фонарь\n"
     ]
    }
   ],
   "source": [
    "print(sort_tokens(u'ночь,фонарь,улица'))"
   ]
  },
  {
   "cell_type": "code",
   "execution_count": 70,
   "metadata": {
    "collapsed": false
   },
   "outputs": [
    {
     "name": "stdout",
     "output_type": "stream",
     "text": [
      "а,аа,ааа,аба,ав,б,баа,бб,ва\n"
     ]
    }
   ],
   "source": [
    "print(sort_tokens(u'баа,аа,аба,бб,а,б,ааа,ва,ав'))"
   ]
  },
  {
   "cell_type": "code",
   "execution_count": 71,
   "metadata": {
    "collapsed": false
   },
   "outputs": [
    {
     "name": "stdout",
     "output_type": "stream",
     "text": [
      "q,qw,qwee,qwer,qwerty\n"
     ]
    }
   ],
   "source": [
    "print(sort_tokens(u'qwer,qw,qwee,q,qwerty'))"
   ]
  },
  {
   "cell_type": "markdown",
   "metadata": {},
   "source": [
    "#### 3. Напишите функцию `remove_duplicates(a)`, которая принимает на вход список и возвращает его же, но без дубликатов и в отсортированном виде. Например, для списка `[u\"ночь\", u\"улица\", u\"фонарь\", u\"аптека\", u\"аптека\", u\"улица\", u\"фонарь\"]` результат должен быть `[u\"аптека\", u\"ночь\", u\"улица\", u\"фонарь\", ]`."
   ]
  },
  {
   "cell_type": "markdown",
   "metadata": {},
   "source": [
    "Подсказка: обратите внимание на структуру `set`!"
   ]
  },
  {
   "cell_type": "code",
   "execution_count": 72,
   "metadata": {
    "collapsed": true
   },
   "outputs": [],
   "source": [
    "def remove_duplicates(a):\n",
    "    return sorted(list(set(a)))"
   ]
  },
  {
   "cell_type": "code",
   "execution_count": 76,
   "metadata": {
    "collapsed": false
   },
   "outputs": [
    {
     "name": "stdout",
     "output_type": "stream",
     "text": [
      "['a', 'ab', 'aba', 'ba', 'bb', 'cc']\n"
     ]
    }
   ],
   "source": [
    "print(remove_duplicates(['cc', 'aba', 'bb', 'aba', 'ba', 'ba', 'bb', 'ba', 'ab', 'a']))"
   ]
  },
  {
   "cell_type": "markdown",
   "metadata": {},
   "source": [
    "#### 4. Напишите функцию `word_counts(texts)`, которая принимает на вход список строк, и печатает пары (слово, число вхождений). Считайте, что слова в текстах могут быть разделены только пробелами. Например, для входа `[u'ночь улица фонарь аптека', u'аптека улица фонарь']` должно быть напечатано\n",
    ">аптека 2\n",
    "\n",
    ">улица 2\n",
    "\n",
    ">фонарь 2\n",
    "\n",
    ">ночь 1"
   ]
  },
  {
   "cell_type": "markdown",
   "metadata": {},
   "source": [
    "Подсказки:\n",
    "\n",
    "Чтобы разбить каждый из текстов на слова, воспользуйтесь функцией `map`, которая применяет заданную функцию к каждому элементу списка. Например, если бы нужно было каждый из текстов привести к нижнему регистру, то команда выглядела бы так:"
   ]
  },
  {
   "cell_type": "code",
   "execution_count": 3,
   "metadata": {
    "collapsed": false
   },
   "outputs": [
    {
     "data": {
      "text/plain": [
       "['abcdefg', 'hijkl']"
      ]
     },
     "execution_count": 3,
     "metadata": {},
     "output_type": "execute_result"
    }
   ],
   "source": [
    "map(lambda x: x.lower(), [\"abCDefg\", \"HIjkL\"])"
   ]
  },
  {
   "cell_type": "markdown",
   "metadata": {},
   "source": [
    "После первого шага вы получите список, состоящий из списков слов. Чтобы объединить их в один список слов, воспользуйтесь функцией `reduce`. Например, просуммировать числа из списка с ее помощью можно так:\n",
    "\n"
   ]
  },
  {
   "cell_type": "code",
   "execution_count": 4,
   "metadata": {
    "collapsed": false
   },
   "outputs": [
    {
     "data": {
      "text/plain": [
       "15"
      ]
     },
     "execution_count": 4,
     "metadata": {},
     "output_type": "execute_result"
    }
   ],
   "source": [
    "reduce(lambda x, y: x + y, [1, 2, 3, 4, 5])"
   ]
  },
  {
   "cell_type": "markdown",
   "metadata": {},
   "source": [
    "Для подсчета количества вхождений слов воспользуйтесь структурой `defaultdict` из модуля `collections`. В отличие от обычного `dict`, она не генерирует ошибку при обращении к несуществущему ключу, а создает новую запись, инициализируемую нулевым значением. Например:"
   ]
  },
  {
   "cell_type": "code",
   "execution_count": 94,
   "metadata": {
    "collapsed": false
   },
   "outputs": [
    {
     "name": "stdout",
     "output_type": "stream",
     "text": [
      "defaultdict(<type 'int'>, {})\n",
      "defaultdict(<type 'int'>, {'abc': 1})\n",
      "defaultdict(<type 'int'>, {'xxx': 0, 'abc': 1})\n"
     ]
    }
   ],
   "source": [
    "from collections import defaultdict\n",
    "d = defaultdict(int)\n",
    "print d\n",
    "d['abc'] += 1\n",
    "print d\n",
    "d['xxx']\n",
    "print d"
   ]
  },
  {
   "cell_type": "code",
   "execution_count": 97,
   "metadata": {
    "collapsed": false
   },
   "outputs": [],
   "source": [
    "def word_counts(texts):\n",
    "    res = reduce(lambda x, y: x + y, map(lambda x: x.split(), texts))\n",
    "    d = defaultdict(int)\n",
    "    for s in res:\n",
    "        d[s] += 1\n",
    "    for s in d:\n",
    "        print s, d[s]"
   ]
  },
  {
   "cell_type": "code",
   "execution_count": 98,
   "metadata": {
    "collapsed": false
   },
   "outputs": [
    {
     "name": "stdout",
     "output_type": "stream",
     "text": [
      "aa 2\n",
      "a 1\n",
      "c 2\n",
      "b 3\n",
      "aaa 1\n",
      "de 1\n",
      "aaaa 1\n",
      "def 2\n"
     ]
    }
   ],
   "source": [
    "word_counts(['aaa aa a b c def', 'aa  aaaa b b c de def'])"
   ]
  },
  {
   "cell_type": "markdown",
   "metadata": {},
   "source": [
    "#### 5. (бонусное задание) Скачайте английский перевод \"Преступления и наказания\". Найдите 20 самых популярных слов и 20 слов, которые встречаются только один раз."
   ]
  },
  {
   "cell_type": "markdown",
   "metadata": {},
   "source": [
    "Приведите текст к нижнему регистру. Разделите текст на слова, считая разделителями все, кроме букв. Обратите внимание на функцию `split` из модуля `re`.\n",
    "\n",
    "Не забудьте удалить пустые слова:\n",
    "```\n",
    "words = filter(lambda x: len(x) > 0, words)\n",
    "```"
   ]
  },
  {
   "cell_type": "code",
   "execution_count": 99,
   "metadata": {
    "collapsed": false
   },
   "outputs": [],
   "source": [
    "from urllib import urlopen\n",
    "url = \"http://www.gutenberg.org/files/2554/2554.txt\"\n",
    "response = urlopen(url)\n",
    "raw_text = response.read().decode('utf8')"
   ]
  },
  {
   "cell_type": "code",
   "execution_count": 100,
   "metadata": {
    "collapsed": false
   },
   "outputs": [
    {
     "data": {
      "text/plain": [
       "u'r five\\r\\nchildren in only two rooms. The father and mother spent their evenings\\r\\nin reading aloud to '"
      ]
     },
     "execution_count": 100,
     "metadata": {},
     "output_type": "execute_result"
    }
   ],
   "source": [
    "raw_text[1000:1100]"
   ]
  },
  {
   "cell_type": "code",
   "execution_count": 105,
   "metadata": {
    "collapsed": false
   },
   "outputs": [],
   "source": [
    "import re"
   ]
  },
  {
   "cell_type": "code",
   "execution_count": 154,
   "metadata": {
    "collapsed": false
   },
   "outputs": [
    {
     "name": "stdout",
     "output_type": "stream",
     "text": [
      "211866\n"
     ]
    },
    {
     "data": {
      "text/plain": [
       "[(u'the', 8003),\n",
       " (u'and', 7042),\n",
       " (u'to', 5497),\n",
       " (u'he', 4900),\n",
       " (u'a', 4668),\n",
       " (u'i', 4405),\n",
       " (u'you', 4118),\n",
       " (u'of', 3928),\n",
       " (u'it', 3463),\n",
       " (u'that', 3308),\n",
       " (u'in', 3254),\n",
       " (u'was', 2827),\n",
       " (u'his', 2116),\n",
       " (u'at', 2082),\n",
       " (u'her', 1829),\n",
       " (u'but', 1801),\n",
       " (u'not', 1775),\n",
       " (u's', 1765),\n",
       " (u'with', 1757),\n",
       " (u'she', 1695)]"
      ]
     },
     "execution_count": 154,
     "metadata": {},
     "output_type": "execute_result"
    }
   ],
   "source": [
    "raw_text = raw_text.lower()\n",
    "words= re.split('[^a-z]', raw_text)\n",
    "words = filter(lambda x: len(x) > 0, words)\n",
    "print(len(words))\n",
    "\n",
    "d = defaultdict(int)\n",
    "for w in words:\n",
    "    d[w] += 1\n",
    "srt = sorted(d.items(), key = lambda x:x[1], reverse = True)\n",
    "srt[:20]"
   ]
  },
  {
   "cell_type": "code",
   "execution_count": 157,
   "metadata": {
    "collapsed": false
   },
   "outputs": [
    {
     "data": {
      "text/plain": [
       "[(u'fawn', 1),\n",
       " (u'writings', 1),\n",
       " (u'nunnery', 1),\n",
       " (u'fedosya', 1),\n",
       " (u'clotted', 1),\n",
       " (u'preface', 1),\n",
       " (u'cyprus', 1),\n",
       " (u'increase', 1),\n",
       " (u'wheeled', 1),\n",
       " (u'superficially', 1),\n",
       " (u'meadows', 1),\n",
       " (u'fogeys', 1),\n",
       " (u'anaemic', 1),\n",
       " (u'straws', 1),\n",
       " (u'busybody', 1),\n",
       " (u'reliable', 1),\n",
       " (u'scraped', 1),\n",
       " (u'errors', 1),\n",
       " (u'cooking', 1),\n",
       " (u'contributed', 1)]"
      ]
     },
     "execution_count": 157,
     "metadata": {},
     "output_type": "execute_result"
    }
   ],
   "source": [
    "filter(lambda x: x[1] == 1, d.items())[:20]"
   ]
  },
  {
   "cell_type": "markdown",
   "metadata": {},
   "source": [
    "## Часть 2: NumPy и SciPy"
   ]
  },
  {
   "cell_type": "markdown",
   "metadata": {},
   "source": [
    "#### 1. Повторите 1000 раз следующий эксперимент: сгенерируйте две матрицы размера $10 \\times 10$ из стандартного нормального распределения, перемножьте их (как матрицы) и найдите максимальный элемент. Какое среднее значение по экспериментам у максимальных элементов? 95-процентная квантиль?"
   ]
  },
  {
   "cell_type": "markdown",
   "metadata": {},
   "source": [
    "Для вычисления квантили воспользуйтесь функцией `np.percentile`"
   ]
  },
  {
   "cell_type": "code",
   "execution_count": 179,
   "metadata": {
    "collapsed": false
   },
   "outputs": [
    {
     "name": "stdout",
     "output_type": "stream",
     "text": [
      "8.39869449401\n",
      "11.9235001803\n"
     ]
    }
   ],
   "source": [
    "N = 1000\n",
    "x = np.empty(N)\n",
    "for i in range(N):\n",
    "    a = np.random.normal(size = (10, 10))\n",
    "    b = np.random.normal(size = (10, 10))\n",
    "    x[i] = np.max(np.dot(a, b))\n",
    "print x.mean()\n",
    "print np.percentile(x, 95)"
   ]
  },
  {
   "cell_type": "markdown",
   "metadata": {},
   "source": [
    "#### 2. Сгенерируйте 1000 чисел из распределения Пуассона с параметром $\\lambda = 5$. Сформируйте массив, в котором в i-м элементе будет записано количество сгенерированных чисел, равных i."
   ]
  },
  {
   "cell_type": "markdown",
   "metadata": {},
   "source": [
    "Обратите внимание на функцию `np.bincount`"
   ]
  },
  {
   "cell_type": "code",
   "execution_count": 191,
   "metadata": {
    "collapsed": false
   },
   "outputs": [
    {
     "name": "stdout",
     "output_type": "stream",
     "text": [
      "[  5  28  78 140 158 182 159 124  62  35  13   5   7   4]\n"
     ]
    }
   ],
   "source": [
    "x = np.random.poisson(5, 1000)\n",
    "b = np.bincount(x)\n",
    "print(b)"
   ]
  },
  {
   "cell_type": "markdown",
   "metadata": {},
   "source": [
    "#### 3. Реализуйте функцию, которая принимает на вход numpy-массив целых чисел `a`, и генерирует массив, в котором число `i` встречается `a[i]` раз. Протестируйте на результате из прошлого задания."
   ]
  },
  {
   "cell_type": "markdown",
   "metadata": {},
   "source": [
    "Обратите внимание на функцию `np.repeat`"
   ]
  },
  {
   "cell_type": "code",
   "execution_count": 193,
   "metadata": {
    "collapsed": false
   },
   "outputs": [],
   "source": [
    "def my_func(a):\n",
    "    res = np.array([], dtype='int64')\n",
    "    for i in range(len(a)):\n",
    "        res = np.append(res, np.repeat(np.array([i], dtype='int64'), a[i]))\n",
    "    return res"
   ]
  },
  {
   "cell_type": "code",
   "execution_count": 199,
   "metadata": {
    "collapsed": false
   },
   "outputs": [
    {
     "data": {
      "text/plain": [
       "True"
      ]
     },
     "execution_count": 199,
     "metadata": {},
     "output_type": "execute_result"
    }
   ],
   "source": [
    "np.all(my_func(b) == sorted(x))"
   ]
  },
  {
   "cell_type": "markdown",
   "metadata": {},
   "source": [
    "#### 4. Напишите функцию `scale(X)`, которая принимает на вход матрицу и масштабирует каждый ее столбец (вычитает среднее и делит на стандартное отклонение). Убедитесь, что в функции не будет происходить деления на ноль. Протестируйте на каких-нибудь данных."
   ]
  },
  {
   "cell_type": "code",
   "execution_count": 239,
   "metadata": {
    "collapsed": false
   },
   "outputs": [],
   "source": [
    "def scale(X):\n",
    "    D = np.std(X, axis = 0)\n",
    "    D[np.abs(D) <= 1e-9] = 1.0\n",
    "    return (X - np.mean(X, axis = 0)) / D\n",
    "    "
   ]
  },
  {
   "cell_type": "code",
   "execution_count": 240,
   "metadata": {
    "collapsed": false
   },
   "outputs": [
    {
     "name": "stdout",
     "output_type": "stream",
     "text": [
      "[ 0.  0.  0.  0.  0.  0.  0.  0.  0.  0.]\n",
      "[ 1.  1.  1.  1.  1.  1.  1.  1.  1.  1.]\n"
     ]
    }
   ],
   "source": [
    "X = np.reshape(np.arange(50), (5, 10))\n",
    "Y = scale(X)\n",
    "print(np.mean(Y, axis = 0))\n",
    "print(np.std(Y, axis = 0))"
   ]
  },
  {
   "cell_type": "code",
   "execution_count": 241,
   "metadata": {
    "collapsed": false
   },
   "outputs": [
    {
     "name": "stdout",
     "output_type": "stream",
     "text": [
      "[[ 0 10  2  3  4  5  6  7  8  9]\n",
      " [10 10 12 13 14 15 16 17 18 19]\n",
      " [20 10 22 23 24 25 26 27 28 29]\n",
      " [30 10 32 33 34 35 36 37 38 39]\n",
      " [40 10 42 43 44 45 46 47 48 49]]\n",
      "[ 0.  0.  0.  0.  0.  0.  0.  0.  0.  0.]\n",
      "[ 1.  0.  1.  1.  1.  1.  1.  1.  1.  1.]\n",
      "[[-1.41421356  0.         -1.41421356 -1.41421356 -1.41421356 -1.41421356\n",
      "  -1.41421356 -1.41421356 -1.41421356 -1.41421356]\n",
      " [-0.70710678  0.         -0.70710678 -0.70710678 -0.70710678 -0.70710678\n",
      "  -0.70710678 -0.70710678 -0.70710678 -0.70710678]\n",
      " [ 0.          0.          0.          0.          0.          0.          0.\n",
      "   0.          0.          0.        ]\n",
      " [ 0.70710678  0.          0.70710678  0.70710678  0.70710678  0.70710678\n",
      "   0.70710678  0.70710678  0.70710678  0.70710678]\n",
      " [ 1.41421356  0.          1.41421356  1.41421356  1.41421356  1.41421356\n",
      "   1.41421356  1.41421356  1.41421356  1.41421356]]\n"
     ]
    }
   ],
   "source": [
    "X = np.reshape(np.arange(50), (5, 10))\n",
    "X[:, 1] = 10\n",
    "print(X)\n",
    "Y = scale(X)\n",
    "print(np.mean(Y, axis = 0))\n",
    "print(np.std(Y, axis = 0))\n",
    "print(Y)"
   ]
  },
  {
   "cell_type": "markdown",
   "metadata": {},
   "source": [
    "#### 5. Сгенерируйте матрицу с элементами из норм(ального распределения $\\mathcal{N}(10, 1)$. Найдите ее:\n",
    "- определитель\n",
    "- след\n",
    "- наименьший и наибольший элементы\n",
    "- спектральную норму\n",
    "- норму Фробениуса\n",
    "- собственные числа\n",
    "- обратную матрицу"
   ]
  },
  {
   "cell_type": "code",
   "execution_count": 243,
   "metadata": {
    "collapsed": false
   },
   "outputs": [
    {
     "data": {
      "text/plain": [
       "array([[ 10.73189442,  10.83628325,   9.39837748,   8.54083326,\n",
       "         10.13707054,  10.57539006,   9.41664493],\n",
       "       [  8.95478279,   9.07518735,   9.09474535,   9.5869317 ,\n",
       "         10.60884626,   8.95898565,   9.84816484],\n",
       "       [  9.78871221,   9.71945777,  11.43471307,   9.8862956 ,\n",
       "         10.50780158,   9.82170477,   9.46499793],\n",
       "       [  9.71897792,   9.44439703,  12.07086386,   9.43431617,\n",
       "         11.78972068,   8.24899733,  10.39018098],\n",
       "       [ 10.23728977,  12.05030846,  11.25077488,  10.95500265,\n",
       "         11.0334591 ,   9.13679794,  10.42261072],\n",
       "       [ 10.9512506 ,   9.6317293 ,   8.85766118,  10.13718575,\n",
       "          9.6492129 ,   9.25734786,   9.13944917],\n",
       "       [  8.73737722,  10.85256206,   9.94546817,  11.90025753,\n",
       "         11.31526216,   9.22822869,   9.87594901]])"
      ]
     },
     "execution_count": 243,
     "metadata": {},
     "output_type": "execute_result"
    }
   ],
   "source": [
    "import scipy.linalg\n",
    "X = np.random.normal(10, 1, size = (7, 7))\n",
    "X"
   ]
  },
  {
   "cell_type": "code",
   "execution_count": 245,
   "metadata": {
    "collapsed": false
   },
   "outputs": [
    {
     "data": {
      "text/plain": [
       "847.820582213034"
      ]
     },
     "execution_count": 245,
     "metadata": {},
     "output_type": "execute_result"
    }
   ],
   "source": [
    "print(scipy.linalg.det(X))"
   ]
  },
  {
   "cell_type": "code",
   "execution_count": 274,
   "metadata": {
    "collapsed": false
   },
   "outputs": [
    {
     "name": "stdout",
     "output_type": "stream",
     "text": [
      "70.8428669796\n"
     ]
    }
   ],
   "source": [
    "print(X.trace())"
   ]
  },
  {
   "cell_type": "code",
   "execution_count": 252,
   "metadata": {
    "collapsed": false
   },
   "outputs": [
    {
     "name": "stdout",
     "output_type": "stream",
     "text": [
      "(8.2489973310369304, 12.070863860157251)\n"
     ]
    }
   ],
   "source": [
    "print(X.min(), X.max())"
   ]
  },
  {
   "cell_type": "code",
   "execution_count": 264,
   "metadata": {
    "collapsed": false
   },
   "outputs": [
    {
     "name": "stdout",
     "output_type": "stream",
     "text": [
      "(26.6896712209+0j)\n"
     ]
    }
   ],
   "source": [
    "print(np.max(scipy.linalg.eigvals(X.T * X)) ** 0.5)"
   ]
  },
  {
   "cell_type": "code",
   "execution_count": 261,
   "metadata": {
    "collapsed": false
   },
   "outputs": [
    {
     "name": "stdout",
     "output_type": "stream",
     "text": [
      "70.6032049398\n"
     ]
    }
   ],
   "source": [
    "print(scipy.linalg.norm(X, ord = 'fro'))"
   ]
  },
  {
   "cell_type": "code",
   "execution_count": 265,
   "metadata": {
    "collapsed": false
   },
   "outputs": [
    {
     "name": "stdout",
     "output_type": "stream",
     "text": [
      "[ 70.35360455+0.j           2.22543138+0.69657984j   2.22543138-0.69657984j\n",
      "  -0.69202150+1.13937256j  -0.69202150-1.13937256j  -0.64545019+0.j\n",
      "  -1.93210713+0.j        ]\n"
     ]
    }
   ],
   "source": [
    "print(scipy.linalg.eigvals(X))"
   ]
  },
  {
   "cell_type": "code",
   "execution_count": 270,
   "metadata": {
    "collapsed": false
   },
   "outputs": [
    {
     "name": "stdout",
     "output_type": "stream",
     "text": [
      "[[  5.71513560e-02  -3.36690236e-01  -2.20645780e-01   2.53454953e-01\n",
      "   -1.41374272e-01   4.42039157e-01  -3.38123914e-02]\n",
      " [  2.57585574e-01  -2.80598562e-01  -2.48207635e-01   4.91454570e-03\n",
      "    2.63219448e-01  -1.63822830e-01   1.40728484e-01]\n",
      " [ -1.61914415e-01  -1.11568866e-01   4.07605783e-01  -1.65254423e-02\n",
      "    1.44694688e-01  -1.04463946e-01  -1.63650085e-01]\n",
      " [ -3.17193602e-01  -1.20444449e-02   1.62451776e-01  -1.68921364e-01\n",
      "    1.11677701e-03   2.17217373e-01   1.34280377e-01]\n",
      " [  5.80037038e-01  -7.79738461e-01  -6.30785354e-01   7.85779594e-01\n",
      "   -8.46463316e-01   4.71135241e-02   8.52044285e-01]\n",
      " [  1.19007210e-01   2.21706571e-01   4.10978207e-01  -3.23142198e-01\n",
      "   -1.83314849e-01  -1.96961253e-01  -1.27295894e-02]\n",
      " [ -5.64129387e-01   1.41929911e+00   2.00426978e-01  -6.07797583e-01\n",
      "    8.29886250e-01  -2.37532984e-01  -9.84802596e-01]]\n"
     ]
    }
   ],
   "source": [
    "print(scipy.linalg.inv(X))"
   ]
  },
  {
   "cell_type": "markdown",
   "metadata": {},
   "source": [
    "## Часть 3: Pandas"
   ]
  },
  {
   "cell_type": "markdown",
   "metadata": {},
   "source": [
    "#### Ответьте на вопросы о данных по авиарейсам в США за январь-апрель 2008 года.\n",
    "\n",
    "Данные: http://stat-computing.org/dataexpo/2009/2008.csv.bz2\n",
    "(обратите внимание, что распаковывать этот файл не обязательно — функция `pandas.read_csv` умеет читать из архивов автоматически)\n",
    "\n",
    "Описание: http://stat-computing.org/dataexpo/2009/the-data.html\n",
    "\n",
    "1. Какая из причин отмены рейса (`CancellationCode`) была самой частой? (расшифровки кодов можно найти в описании данных)\n",
    "2. Найдите среднее, минимальное и максимальное расстояние, пройденное самолетом.\n",
    "3. Не выглядит ли подозрительным минимальное пройденное расстояние? В какие дни и на каких рейсах оно было? Какое расстояние было пройдено этими же рейсами в другие дни?\n",
    "4. Из какого аэропорта было произведено больше всего вылетов? В каком городе он находится?\n",
    "5. Найдите для каждого аэропорта среднее время полета (`AirTime`) по всем вылетевшим из него рейсам. Какой аэропорт имеет наибольшее значение этого показателя?\n",
    "6. Найдите аэропорт, у которого наибольшая доля задержанных (`DepDelay > 0`) рейсов. Исключите при этом из рассмотрения аэропорты, из которых было отправлено меньше 1000 рейсов (используйте функцию `filter` после `groupby`)."
   ]
  },
  {
   "cell_type": "code",
   "execution_count": 4,
   "metadata": {
    "collapsed": false
   },
   "outputs": [],
   "source": [
    "data = pd.read_csv('./data/2008.csv.bz2')"
   ]
  },
  {
   "cell_type": "code",
   "execution_count": 5,
   "metadata": {
    "collapsed": false
   },
   "outputs": [
    {
     "data": {
      "text/plain": [
       "'B'"
      ]
     },
     "execution_count": 5,
     "metadata": {},
     "output_type": "execute_result"
    }
   ],
   "source": [
    "data.CancellationCode.value_counts().argmax()"
   ]
  },
  {
   "cell_type": "markdown",
   "metadata": {},
   "source": [
    "#### 1. 'B' - weather"
   ]
  },
  {
   "cell_type": "code",
   "execution_count": 7,
   "metadata": {
    "collapsed": false
   },
   "outputs": [
    {
     "name": "stdout",
     "output_type": "stream",
     "text": [
      "726.387029425 11 4962\n"
     ]
    }
   ],
   "source": [
    "print data.Distance.mean(), data.Distance.min(), data.Distance.max()"
   ]
  },
  {
   "cell_type": "markdown",
   "metadata": {},
   "source": [
    "#### 2. среднее: 726.38702942539283, минимальное: 11, максимальное: 4962"
   ]
  },
  {
   "cell_type": "code",
   "execution_count": 8,
   "metadata": {
    "collapsed": false
   },
   "outputs": [
    {
     "data": {
      "text/html": [
       "<div>\n",
       "<table border=\"1\" class=\"dataframe\">\n",
       "  <thead>\n",
       "    <tr style=\"text-align: right;\">\n",
       "      <th></th>\n",
       "      <th>Year</th>\n",
       "      <th>Month</th>\n",
       "      <th>DayofMonth</th>\n",
       "      <th>DayOfWeek</th>\n",
       "      <th>UniqueCarrier</th>\n",
       "      <th>FlightNum</th>\n",
       "    </tr>\n",
       "  </thead>\n",
       "  <tbody>\n",
       "    <tr>\n",
       "      <th>2547298</th>\n",
       "      <td>2008</td>\n",
       "      <td>5</td>\n",
       "      <td>15</td>\n",
       "      <td>4</td>\n",
       "      <td>OH</td>\n",
       "      <td>4988</td>\n",
       "    </tr>\n",
       "    <tr>\n",
       "      <th>4392215</th>\n",
       "      <td>2008</td>\n",
       "      <td>8</td>\n",
       "      <td>10</td>\n",
       "      <td>7</td>\n",
       "      <td>OH</td>\n",
       "      <td>5572</td>\n",
       "    </tr>\n",
       "  </tbody>\n",
       "</table>\n",
       "</div>"
      ],
      "text/plain": [
       "         Year  Month  DayofMonth  DayOfWeek UniqueCarrier  FlightNum\n",
       "2547298  2008      5          15          4            OH       4988\n",
       "4392215  2008      8          10          7            OH       5572"
      ]
     },
     "execution_count": 8,
     "metadata": {},
     "output_type": "execute_result"
    }
   ],
   "source": [
    "f = data[data.Distance == 11]\n",
    "f[[0, 1, 2, 3, 8, 9]]"
   ]
  },
  {
   "cell_type": "code",
   "execution_count": 9,
   "metadata": {
    "collapsed": false
   },
   "outputs": [
    {
     "data": {
      "text/html": [
       "<div>\n",
       "<table border=\"1\" class=\"dataframe\">\n",
       "  <thead>\n",
       "    <tr style=\"text-align: right;\">\n",
       "      <th></th>\n",
       "      <th>Year</th>\n",
       "      <th>Month</th>\n",
       "      <th>DayofMonth</th>\n",
       "      <th>DayOfWeek</th>\n",
       "      <th>UniqueCarrier</th>\n",
       "      <th>FlightNum</th>\n",
       "      <th>Distance</th>\n",
       "    </tr>\n",
       "  </thead>\n",
       "  <tbody>\n",
       "    <tr>\n",
       "      <th>151771</th>\n",
       "      <td>2008</td>\n",
       "      <td>1</td>\n",
       "      <td>3</td>\n",
       "      <td>4</td>\n",
       "      <td>OH</td>\n",
       "      <td>4988</td>\n",
       "      <td>834</td>\n",
       "    </tr>\n",
       "    <tr>\n",
       "      <th>152430</th>\n",
       "      <td>2008</td>\n",
       "      <td>1</td>\n",
       "      <td>4</td>\n",
       "      <td>5</td>\n",
       "      <td>OH</td>\n",
       "      <td>4988</td>\n",
       "      <td>834</td>\n",
       "    </tr>\n",
       "    <tr>\n",
       "      <th>153088</th>\n",
       "      <td>2008</td>\n",
       "      <td>1</td>\n",
       "      <td>5</td>\n",
       "      <td>6</td>\n",
       "      <td>OH</td>\n",
       "      <td>4988</td>\n",
       "      <td>834</td>\n",
       "    </tr>\n",
       "    <tr>\n",
       "      <th>153545</th>\n",
       "      <td>2008</td>\n",
       "      <td>1</td>\n",
       "      <td>6</td>\n",
       "      <td>7</td>\n",
       "      <td>OH</td>\n",
       "      <td>4988</td>\n",
       "      <td>834</td>\n",
       "    </tr>\n",
       "    <tr>\n",
       "      <th>154096</th>\n",
       "      <td>2008</td>\n",
       "      <td>1</td>\n",
       "      <td>7</td>\n",
       "      <td>1</td>\n",
       "      <td>OH</td>\n",
       "      <td>4988</td>\n",
       "      <td>834</td>\n",
       "    </tr>\n",
       "    <tr>\n",
       "      <th>154750</th>\n",
       "      <td>2008</td>\n",
       "      <td>1</td>\n",
       "      <td>8</td>\n",
       "      <td>2</td>\n",
       "      <td>OH</td>\n",
       "      <td>4988</td>\n",
       "      <td>834</td>\n",
       "    </tr>\n",
       "    <tr>\n",
       "      <th>155308</th>\n",
       "      <td>2008</td>\n",
       "      <td>1</td>\n",
       "      <td>9</td>\n",
       "      <td>3</td>\n",
       "      <td>OH</td>\n",
       "      <td>4988</td>\n",
       "      <td>834</td>\n",
       "    </tr>\n",
       "    <tr>\n",
       "      <th>155962</th>\n",
       "      <td>2008</td>\n",
       "      <td>1</td>\n",
       "      <td>10</td>\n",
       "      <td>4</td>\n",
       "      <td>OH</td>\n",
       "      <td>4988</td>\n",
       "      <td>834</td>\n",
       "    </tr>\n",
       "    <tr>\n",
       "      <th>156627</th>\n",
       "      <td>2008</td>\n",
       "      <td>1</td>\n",
       "      <td>11</td>\n",
       "      <td>5</td>\n",
       "      <td>OH</td>\n",
       "      <td>4988</td>\n",
       "      <td>834</td>\n",
       "    </tr>\n",
       "    <tr>\n",
       "      <th>157287</th>\n",
       "      <td>2008</td>\n",
       "      <td>1</td>\n",
       "      <td>12</td>\n",
       "      <td>6</td>\n",
       "      <td>OH</td>\n",
       "      <td>4988</td>\n",
       "      <td>834</td>\n",
       "    </tr>\n",
       "    <tr>\n",
       "      <th>157747</th>\n",
       "      <td>2008</td>\n",
       "      <td>1</td>\n",
       "      <td>13</td>\n",
       "      <td>7</td>\n",
       "      <td>OH</td>\n",
       "      <td>4988</td>\n",
       "      <td>834</td>\n",
       "    </tr>\n",
       "    <tr>\n",
       "      <th>158301</th>\n",
       "      <td>2008</td>\n",
       "      <td>1</td>\n",
       "      <td>14</td>\n",
       "      <td>1</td>\n",
       "      <td>OH</td>\n",
       "      <td>4988</td>\n",
       "      <td>834</td>\n",
       "    </tr>\n",
       "    <tr>\n",
       "      <th>158958</th>\n",
       "      <td>2008</td>\n",
       "      <td>1</td>\n",
       "      <td>15</td>\n",
       "      <td>2</td>\n",
       "      <td>OH</td>\n",
       "      <td>4988</td>\n",
       "      <td>834</td>\n",
       "    </tr>\n",
       "    <tr>\n",
       "      <th>159514</th>\n",
       "      <td>2008</td>\n",
       "      <td>1</td>\n",
       "      <td>16</td>\n",
       "      <td>3</td>\n",
       "      <td>OH</td>\n",
       "      <td>4988</td>\n",
       "      <td>834</td>\n",
       "    </tr>\n",
       "    <tr>\n",
       "      <th>160169</th>\n",
       "      <td>2008</td>\n",
       "      <td>1</td>\n",
       "      <td>17</td>\n",
       "      <td>4</td>\n",
       "      <td>OH</td>\n",
       "      <td>4988</td>\n",
       "      <td>834</td>\n",
       "    </tr>\n",
       "    <tr>\n",
       "      <th>160833</th>\n",
       "      <td>2008</td>\n",
       "      <td>1</td>\n",
       "      <td>18</td>\n",
       "      <td>5</td>\n",
       "      <td>OH</td>\n",
       "      <td>4988</td>\n",
       "      <td>834</td>\n",
       "    </tr>\n",
       "    <tr>\n",
       "      <th>161492</th>\n",
       "      <td>2008</td>\n",
       "      <td>1</td>\n",
       "      <td>19</td>\n",
       "      <td>6</td>\n",
       "      <td>OH</td>\n",
       "      <td>4988</td>\n",
       "      <td>834</td>\n",
       "    </tr>\n",
       "    <tr>\n",
       "      <th>161950</th>\n",
       "      <td>2008</td>\n",
       "      <td>1</td>\n",
       "      <td>20</td>\n",
       "      <td>7</td>\n",
       "      <td>OH</td>\n",
       "      <td>4988</td>\n",
       "      <td>834</td>\n",
       "    </tr>\n",
       "    <tr>\n",
       "      <th>162493</th>\n",
       "      <td>2008</td>\n",
       "      <td>1</td>\n",
       "      <td>21</td>\n",
       "      <td>1</td>\n",
       "      <td>OH</td>\n",
       "      <td>4988</td>\n",
       "      <td>834</td>\n",
       "    </tr>\n",
       "    <tr>\n",
       "      <th>163151</th>\n",
       "      <td>2008</td>\n",
       "      <td>1</td>\n",
       "      <td>22</td>\n",
       "      <td>2</td>\n",
       "      <td>OH</td>\n",
       "      <td>4988</td>\n",
       "      <td>834</td>\n",
       "    </tr>\n",
       "    <tr>\n",
       "      <th>163707</th>\n",
       "      <td>2008</td>\n",
       "      <td>1</td>\n",
       "      <td>23</td>\n",
       "      <td>3</td>\n",
       "      <td>OH</td>\n",
       "      <td>4988</td>\n",
       "      <td>834</td>\n",
       "    </tr>\n",
       "    <tr>\n",
       "      <th>164361</th>\n",
       "      <td>2008</td>\n",
       "      <td>1</td>\n",
       "      <td>24</td>\n",
       "      <td>4</td>\n",
       "      <td>OH</td>\n",
       "      <td>4988</td>\n",
       "      <td>834</td>\n",
       "    </tr>\n",
       "    <tr>\n",
       "      <th>165027</th>\n",
       "      <td>2008</td>\n",
       "      <td>1</td>\n",
       "      <td>25</td>\n",
       "      <td>5</td>\n",
       "      <td>OH</td>\n",
       "      <td>4988</td>\n",
       "      <td>834</td>\n",
       "    </tr>\n",
       "    <tr>\n",
       "      <th>165688</th>\n",
       "      <td>2008</td>\n",
       "      <td>1</td>\n",
       "      <td>26</td>\n",
       "      <td>6</td>\n",
       "      <td>OH</td>\n",
       "      <td>4988</td>\n",
       "      <td>834</td>\n",
       "    </tr>\n",
       "    <tr>\n",
       "      <th>166150</th>\n",
       "      <td>2008</td>\n",
       "      <td>1</td>\n",
       "      <td>27</td>\n",
       "      <td>7</td>\n",
       "      <td>OH</td>\n",
       "      <td>4988</td>\n",
       "      <td>834</td>\n",
       "    </tr>\n",
       "    <tr>\n",
       "      <th>166704</th>\n",
       "      <td>2008</td>\n",
       "      <td>1</td>\n",
       "      <td>28</td>\n",
       "      <td>1</td>\n",
       "      <td>OH</td>\n",
       "      <td>4988</td>\n",
       "      <td>834</td>\n",
       "    </tr>\n",
       "    <tr>\n",
       "      <th>167361</th>\n",
       "      <td>2008</td>\n",
       "      <td>1</td>\n",
       "      <td>29</td>\n",
       "      <td>2</td>\n",
       "      <td>OH</td>\n",
       "      <td>4988</td>\n",
       "      <td>834</td>\n",
       "    </tr>\n",
       "    <tr>\n",
       "      <th>167917</th>\n",
       "      <td>2008</td>\n",
       "      <td>1</td>\n",
       "      <td>30</td>\n",
       "      <td>3</td>\n",
       "      <td>OH</td>\n",
       "      <td>4988</td>\n",
       "      <td>834</td>\n",
       "    </tr>\n",
       "    <tr>\n",
       "      <th>168567</th>\n",
       "      <td>2008</td>\n",
       "      <td>1</td>\n",
       "      <td>31</td>\n",
       "      <td>4</td>\n",
       "      <td>OH</td>\n",
       "      <td>4988</td>\n",
       "      <td>834</td>\n",
       "    </tr>\n",
       "    <tr>\n",
       "      <th>453560</th>\n",
       "      <td>2008</td>\n",
       "      <td>1</td>\n",
       "      <td>1</td>\n",
       "      <td>2</td>\n",
       "      <td>OH</td>\n",
       "      <td>4988</td>\n",
       "      <td>834</td>\n",
       "    </tr>\n",
       "    <tr>\n",
       "      <th>...</th>\n",
       "      <td>...</td>\n",
       "      <td>...</td>\n",
       "      <td>...</td>\n",
       "      <td>...</td>\n",
       "      <td>...</td>\n",
       "      <td>...</td>\n",
       "      <td>...</td>\n",
       "    </tr>\n",
       "    <tr>\n",
       "      <th>1950510</th>\n",
       "      <td>2008</td>\n",
       "      <td>4</td>\n",
       "      <td>22</td>\n",
       "      <td>2</td>\n",
       "      <td>OH</td>\n",
       "      <td>4988</td>\n",
       "      <td>834</td>\n",
       "    </tr>\n",
       "    <tr>\n",
       "      <th>1951061</th>\n",
       "      <td>2008</td>\n",
       "      <td>4</td>\n",
       "      <td>23</td>\n",
       "      <td>3</td>\n",
       "      <td>OH</td>\n",
       "      <td>4988</td>\n",
       "      <td>834</td>\n",
       "    </tr>\n",
       "    <tr>\n",
       "      <th>1951699</th>\n",
       "      <td>2008</td>\n",
       "      <td>4</td>\n",
       "      <td>24</td>\n",
       "      <td>4</td>\n",
       "      <td>OH</td>\n",
       "      <td>4988</td>\n",
       "      <td>834</td>\n",
       "    </tr>\n",
       "    <tr>\n",
       "      <th>1952338</th>\n",
       "      <td>2008</td>\n",
       "      <td>4</td>\n",
       "      <td>25</td>\n",
       "      <td>5</td>\n",
       "      <td>OH</td>\n",
       "      <td>4988</td>\n",
       "      <td>834</td>\n",
       "    </tr>\n",
       "    <tr>\n",
       "      <th>1952964</th>\n",
       "      <td>2008</td>\n",
       "      <td>4</td>\n",
       "      <td>26</td>\n",
       "      <td>6</td>\n",
       "      <td>OH</td>\n",
       "      <td>4988</td>\n",
       "      <td>834</td>\n",
       "    </tr>\n",
       "    <tr>\n",
       "      <th>1953394</th>\n",
       "      <td>2008</td>\n",
       "      <td>4</td>\n",
       "      <td>27</td>\n",
       "      <td>7</td>\n",
       "      <td>OH</td>\n",
       "      <td>4988</td>\n",
       "      <td>834</td>\n",
       "    </tr>\n",
       "    <tr>\n",
       "      <th>1953949</th>\n",
       "      <td>2008</td>\n",
       "      <td>4</td>\n",
       "      <td>28</td>\n",
       "      <td>1</td>\n",
       "      <td>OH</td>\n",
       "      <td>4988</td>\n",
       "      <td>834</td>\n",
       "    </tr>\n",
       "    <tr>\n",
       "      <th>1954581</th>\n",
       "      <td>2008</td>\n",
       "      <td>4</td>\n",
       "      <td>29</td>\n",
       "      <td>2</td>\n",
       "      <td>OH</td>\n",
       "      <td>4988</td>\n",
       "      <td>834</td>\n",
       "    </tr>\n",
       "    <tr>\n",
       "      <th>1955125</th>\n",
       "      <td>2008</td>\n",
       "      <td>4</td>\n",
       "      <td>30</td>\n",
       "      <td>3</td>\n",
       "      <td>OH</td>\n",
       "      <td>4988</td>\n",
       "      <td>834</td>\n",
       "    </tr>\n",
       "    <tr>\n",
       "      <th>2237623</th>\n",
       "      <td>2008</td>\n",
       "      <td>4</td>\n",
       "      <td>1</td>\n",
       "      <td>2</td>\n",
       "      <td>OH</td>\n",
       "      <td>4988</td>\n",
       "      <td>834</td>\n",
       "    </tr>\n",
       "    <tr>\n",
       "      <th>2238161</th>\n",
       "      <td>2008</td>\n",
       "      <td>4</td>\n",
       "      <td>2</td>\n",
       "      <td>3</td>\n",
       "      <td>OH</td>\n",
       "      <td>4988</td>\n",
       "      <td>834</td>\n",
       "    </tr>\n",
       "    <tr>\n",
       "      <th>2238804</th>\n",
       "      <td>2008</td>\n",
       "      <td>4</td>\n",
       "      <td>3</td>\n",
       "      <td>4</td>\n",
       "      <td>OH</td>\n",
       "      <td>4988</td>\n",
       "      <td>834</td>\n",
       "    </tr>\n",
       "    <tr>\n",
       "      <th>2239451</th>\n",
       "      <td>2008</td>\n",
       "      <td>4</td>\n",
       "      <td>4</td>\n",
       "      <td>5</td>\n",
       "      <td>OH</td>\n",
       "      <td>4988</td>\n",
       "      <td>834</td>\n",
       "    </tr>\n",
       "    <tr>\n",
       "      <th>2540716</th>\n",
       "      <td>2008</td>\n",
       "      <td>5</td>\n",
       "      <td>3</td>\n",
       "      <td>6</td>\n",
       "      <td>OH</td>\n",
       "      <td>4988</td>\n",
       "      <td>834</td>\n",
       "    </tr>\n",
       "    <tr>\n",
       "      <th>2541127</th>\n",
       "      <td>2008</td>\n",
       "      <td>5</td>\n",
       "      <td>4</td>\n",
       "      <td>7</td>\n",
       "      <td>OH</td>\n",
       "      <td>4988</td>\n",
       "      <td>834</td>\n",
       "    </tr>\n",
       "    <tr>\n",
       "      <th>2541649</th>\n",
       "      <td>2008</td>\n",
       "      <td>5</td>\n",
       "      <td>5</td>\n",
       "      <td>1</td>\n",
       "      <td>OH</td>\n",
       "      <td>4988</td>\n",
       "      <td>834</td>\n",
       "    </tr>\n",
       "    <tr>\n",
       "      <th>2542256</th>\n",
       "      <td>2008</td>\n",
       "      <td>5</td>\n",
       "      <td>6</td>\n",
       "      <td>2</td>\n",
       "      <td>OH</td>\n",
       "      <td>4988</td>\n",
       "      <td>834</td>\n",
       "    </tr>\n",
       "    <tr>\n",
       "      <th>2542783</th>\n",
       "      <td>2008</td>\n",
       "      <td>5</td>\n",
       "      <td>7</td>\n",
       "      <td>3</td>\n",
       "      <td>OH</td>\n",
       "      <td>4988</td>\n",
       "      <td>834</td>\n",
       "    </tr>\n",
       "    <tr>\n",
       "      <th>2543388</th>\n",
       "      <td>2008</td>\n",
       "      <td>5</td>\n",
       "      <td>8</td>\n",
       "      <td>4</td>\n",
       "      <td>OH</td>\n",
       "      <td>4988</td>\n",
       "      <td>834</td>\n",
       "    </tr>\n",
       "    <tr>\n",
       "      <th>2544001</th>\n",
       "      <td>2008</td>\n",
       "      <td>5</td>\n",
       "      <td>9</td>\n",
       "      <td>5</td>\n",
       "      <td>OH</td>\n",
       "      <td>4988</td>\n",
       "      <td>834</td>\n",
       "    </tr>\n",
       "    <tr>\n",
       "      <th>2544610</th>\n",
       "      <td>2008</td>\n",
       "      <td>5</td>\n",
       "      <td>10</td>\n",
       "      <td>6</td>\n",
       "      <td>OH</td>\n",
       "      <td>4988</td>\n",
       "      <td>834</td>\n",
       "    </tr>\n",
       "    <tr>\n",
       "      <th>2545025</th>\n",
       "      <td>2008</td>\n",
       "      <td>5</td>\n",
       "      <td>11</td>\n",
       "      <td>7</td>\n",
       "      <td>OH</td>\n",
       "      <td>4988</td>\n",
       "      <td>834</td>\n",
       "    </tr>\n",
       "    <tr>\n",
       "      <th>2545558</th>\n",
       "      <td>2008</td>\n",
       "      <td>5</td>\n",
       "      <td>12</td>\n",
       "      <td>1</td>\n",
       "      <td>OH</td>\n",
       "      <td>4988</td>\n",
       "      <td>834</td>\n",
       "    </tr>\n",
       "    <tr>\n",
       "      <th>2546163</th>\n",
       "      <td>2008</td>\n",
       "      <td>5</td>\n",
       "      <td>13</td>\n",
       "      <td>2</td>\n",
       "      <td>OH</td>\n",
       "      <td>4988</td>\n",
       "      <td>834</td>\n",
       "    </tr>\n",
       "    <tr>\n",
       "      <th>2546690</th>\n",
       "      <td>2008</td>\n",
       "      <td>5</td>\n",
       "      <td>14</td>\n",
       "      <td>3</td>\n",
       "      <td>OH</td>\n",
       "      <td>4988</td>\n",
       "      <td>834</td>\n",
       "    </tr>\n",
       "    <tr>\n",
       "      <th>2547297</th>\n",
       "      <td>2008</td>\n",
       "      <td>5</td>\n",
       "      <td>15</td>\n",
       "      <td>4</td>\n",
       "      <td>OH</td>\n",
       "      <td>4988</td>\n",
       "      <td>834</td>\n",
       "    </tr>\n",
       "    <tr>\n",
       "      <th>2547298</th>\n",
       "      <td>2008</td>\n",
       "      <td>5</td>\n",
       "      <td>15</td>\n",
       "      <td>4</td>\n",
       "      <td>OH</td>\n",
       "      <td>4988</td>\n",
       "      <td>11</td>\n",
       "    </tr>\n",
       "    <tr>\n",
       "      <th>2547912</th>\n",
       "      <td>2008</td>\n",
       "      <td>5</td>\n",
       "      <td>16</td>\n",
       "      <td>5</td>\n",
       "      <td>OH</td>\n",
       "      <td>4988</td>\n",
       "      <td>834</td>\n",
       "    </tr>\n",
       "    <tr>\n",
       "      <th>2842848</th>\n",
       "      <td>2008</td>\n",
       "      <td>5</td>\n",
       "      <td>1</td>\n",
       "      <td>4</td>\n",
       "      <td>OH</td>\n",
       "      <td>4988</td>\n",
       "      <td>834</td>\n",
       "    </tr>\n",
       "    <tr>\n",
       "      <th>2843465</th>\n",
       "      <td>2008</td>\n",
       "      <td>5</td>\n",
       "      <td>2</td>\n",
       "      <td>5</td>\n",
       "      <td>OH</td>\n",
       "      <td>4988</td>\n",
       "      <td>834</td>\n",
       "    </tr>\n",
       "  </tbody>\n",
       "</table>\n",
       "<p>132 rows × 7 columns</p>\n",
       "</div>"
      ],
      "text/plain": [
       "         Year  Month  DayofMonth  DayOfWeek UniqueCarrier  FlightNum  Distance\n",
       "151771   2008      1           3          4            OH       4988       834\n",
       "152430   2008      1           4          5            OH       4988       834\n",
       "153088   2008      1           5          6            OH       4988       834\n",
       "153545   2008      1           6          7            OH       4988       834\n",
       "154096   2008      1           7          1            OH       4988       834\n",
       "154750   2008      1           8          2            OH       4988       834\n",
       "155308   2008      1           9          3            OH       4988       834\n",
       "155962   2008      1          10          4            OH       4988       834\n",
       "156627   2008      1          11          5            OH       4988       834\n",
       "157287   2008      1          12          6            OH       4988       834\n",
       "157747   2008      1          13          7            OH       4988       834\n",
       "158301   2008      1          14          1            OH       4988       834\n",
       "158958   2008      1          15          2            OH       4988       834\n",
       "159514   2008      1          16          3            OH       4988       834\n",
       "160169   2008      1          17          4            OH       4988       834\n",
       "160833   2008      1          18          5            OH       4988       834\n",
       "161492   2008      1          19          6            OH       4988       834\n",
       "161950   2008      1          20          7            OH       4988       834\n",
       "162493   2008      1          21          1            OH       4988       834\n",
       "163151   2008      1          22          2            OH       4988       834\n",
       "163707   2008      1          23          3            OH       4988       834\n",
       "164361   2008      1          24          4            OH       4988       834\n",
       "165027   2008      1          25          5            OH       4988       834\n",
       "165688   2008      1          26          6            OH       4988       834\n",
       "166150   2008      1          27          7            OH       4988       834\n",
       "166704   2008      1          28          1            OH       4988       834\n",
       "167361   2008      1          29          2            OH       4988       834\n",
       "167917   2008      1          30          3            OH       4988       834\n",
       "168567   2008      1          31          4            OH       4988       834\n",
       "453560   2008      1           1          2            OH       4988       834\n",
       "...       ...    ...         ...        ...           ...        ...       ...\n",
       "1950510  2008      4          22          2            OH       4988       834\n",
       "1951061  2008      4          23          3            OH       4988       834\n",
       "1951699  2008      4          24          4            OH       4988       834\n",
       "1952338  2008      4          25          5            OH       4988       834\n",
       "1952964  2008      4          26          6            OH       4988       834\n",
       "1953394  2008      4          27          7            OH       4988       834\n",
       "1953949  2008      4          28          1            OH       4988       834\n",
       "1954581  2008      4          29          2            OH       4988       834\n",
       "1955125  2008      4          30          3            OH       4988       834\n",
       "2237623  2008      4           1          2            OH       4988       834\n",
       "2238161  2008      4           2          3            OH       4988       834\n",
       "2238804  2008      4           3          4            OH       4988       834\n",
       "2239451  2008      4           4          5            OH       4988       834\n",
       "2540716  2008      5           3          6            OH       4988       834\n",
       "2541127  2008      5           4          7            OH       4988       834\n",
       "2541649  2008      5           5          1            OH       4988       834\n",
       "2542256  2008      5           6          2            OH       4988       834\n",
       "2542783  2008      5           7          3            OH       4988       834\n",
       "2543388  2008      5           8          4            OH       4988       834\n",
       "2544001  2008      5           9          5            OH       4988       834\n",
       "2544610  2008      5          10          6            OH       4988       834\n",
       "2545025  2008      5          11          7            OH       4988       834\n",
       "2545558  2008      5          12          1            OH       4988       834\n",
       "2546163  2008      5          13          2            OH       4988       834\n",
       "2546690  2008      5          14          3            OH       4988       834\n",
       "2547297  2008      5          15          4            OH       4988       834\n",
       "2547298  2008      5          15          4            OH       4988        11\n",
       "2547912  2008      5          16          5            OH       4988       834\n",
       "2842848  2008      5           1          4            OH       4988       834\n",
       "2843465  2008      5           2          5            OH       4988       834\n",
       "\n",
       "[132 rows x 7 columns]"
      ]
     },
     "execution_count": 9,
     "metadata": {},
     "output_type": "execute_result"
    }
   ],
   "source": [
    "x = data[(data.UniqueCarrier == 'OH') & (data.FlightNum == 4988)]\n",
    "x[[0, 1, 2, 3, 8, 9, 18]]"
   ]
  },
  {
   "cell_type": "code",
   "execution_count": 10,
   "metadata": {
    "collapsed": false
   },
   "outputs": [
    {
     "data": {
      "text/plain": [
       "834    130\n",
       "96       1\n",
       "11       1\n",
       "dtype: int64"
      ]
     },
     "execution_count": 10,
     "metadata": {},
     "output_type": "execute_result"
    }
   ],
   "source": [
    "x.Distance.value_counts()"
   ]
  },
  {
   "cell_type": "code",
   "execution_count": 11,
   "metadata": {
    "collapsed": false
   },
   "outputs": [
    {
     "data": {
      "text/html": [
       "<div>\n",
       "<table border=\"1\" class=\"dataframe\">\n",
       "  <thead>\n",
       "    <tr style=\"text-align: right;\">\n",
       "      <th></th>\n",
       "      <th>Year</th>\n",
       "      <th>Month</th>\n",
       "      <th>DayofMonth</th>\n",
       "      <th>DayOfWeek</th>\n",
       "      <th>UniqueCarrier</th>\n",
       "      <th>FlightNum</th>\n",
       "      <th>Distance</th>\n",
       "    </tr>\n",
       "  </thead>\n",
       "  <tbody>\n",
       "    <tr>\n",
       "      <th>151629</th>\n",
       "      <td>2008</td>\n",
       "      <td>1</td>\n",
       "      <td>2</td>\n",
       "      <td>3</td>\n",
       "      <td>OH</td>\n",
       "      <td>5572</td>\n",
       "      <td>544</td>\n",
       "    </tr>\n",
       "    <tr>\n",
       "      <th>152291</th>\n",
       "      <td>2008</td>\n",
       "      <td>1</td>\n",
       "      <td>3</td>\n",
       "      <td>4</td>\n",
       "      <td>OH</td>\n",
       "      <td>5572</td>\n",
       "      <td>544</td>\n",
       "    </tr>\n",
       "    <tr>\n",
       "      <th>152949</th>\n",
       "      <td>2008</td>\n",
       "      <td>1</td>\n",
       "      <td>4</td>\n",
       "      <td>5</td>\n",
       "      <td>OH</td>\n",
       "      <td>5572</td>\n",
       "      <td>544</td>\n",
       "    </tr>\n",
       "    <tr>\n",
       "      <th>153419</th>\n",
       "      <td>2008</td>\n",
       "      <td>1</td>\n",
       "      <td>5</td>\n",
       "      <td>6</td>\n",
       "      <td>OH</td>\n",
       "      <td>5572</td>\n",
       "      <td>544</td>\n",
       "    </tr>\n",
       "    <tr>\n",
       "      <th>153963</th>\n",
       "      <td>2008</td>\n",
       "      <td>1</td>\n",
       "      <td>6</td>\n",
       "      <td>7</td>\n",
       "      <td>OH</td>\n",
       "      <td>5572</td>\n",
       "      <td>544</td>\n",
       "    </tr>\n",
       "    <tr>\n",
       "      <th>154611</th>\n",
       "      <td>2008</td>\n",
       "      <td>1</td>\n",
       "      <td>7</td>\n",
       "      <td>1</td>\n",
       "      <td>OH</td>\n",
       "      <td>5572</td>\n",
       "      <td>544</td>\n",
       "    </tr>\n",
       "    <tr>\n",
       "      <th>155185</th>\n",
       "      <td>2008</td>\n",
       "      <td>1</td>\n",
       "      <td>8</td>\n",
       "      <td>2</td>\n",
       "      <td>OH</td>\n",
       "      <td>5572</td>\n",
       "      <td>544</td>\n",
       "    </tr>\n",
       "    <tr>\n",
       "      <th>155823</th>\n",
       "      <td>2008</td>\n",
       "      <td>1</td>\n",
       "      <td>9</td>\n",
       "      <td>3</td>\n",
       "      <td>OH</td>\n",
       "      <td>5572</td>\n",
       "      <td>544</td>\n",
       "    </tr>\n",
       "    <tr>\n",
       "      <th>156485</th>\n",
       "      <td>2008</td>\n",
       "      <td>1</td>\n",
       "      <td>10</td>\n",
       "      <td>4</td>\n",
       "      <td>OH</td>\n",
       "      <td>5572</td>\n",
       "      <td>544</td>\n",
       "    </tr>\n",
       "    <tr>\n",
       "      <th>157148</th>\n",
       "      <td>2008</td>\n",
       "      <td>1</td>\n",
       "      <td>11</td>\n",
       "      <td>5</td>\n",
       "      <td>OH</td>\n",
       "      <td>5572</td>\n",
       "      <td>544</td>\n",
       "    </tr>\n",
       "    <tr>\n",
       "      <th>157622</th>\n",
       "      <td>2008</td>\n",
       "      <td>1</td>\n",
       "      <td>12</td>\n",
       "      <td>6</td>\n",
       "      <td>OH</td>\n",
       "      <td>5572</td>\n",
       "      <td>544</td>\n",
       "    </tr>\n",
       "    <tr>\n",
       "      <th>158169</th>\n",
       "      <td>2008</td>\n",
       "      <td>1</td>\n",
       "      <td>13</td>\n",
       "      <td>7</td>\n",
       "      <td>OH</td>\n",
       "      <td>5572</td>\n",
       "      <td>544</td>\n",
       "    </tr>\n",
       "    <tr>\n",
       "      <th>158819</th>\n",
       "      <td>2008</td>\n",
       "      <td>1</td>\n",
       "      <td>14</td>\n",
       "      <td>1</td>\n",
       "      <td>OH</td>\n",
       "      <td>5572</td>\n",
       "      <td>544</td>\n",
       "    </tr>\n",
       "    <tr>\n",
       "      <th>159392</th>\n",
       "      <td>2008</td>\n",
       "      <td>1</td>\n",
       "      <td>15</td>\n",
       "      <td>2</td>\n",
       "      <td>OH</td>\n",
       "      <td>5572</td>\n",
       "      <td>544</td>\n",
       "    </tr>\n",
       "    <tr>\n",
       "      <th>160029</th>\n",
       "      <td>2008</td>\n",
       "      <td>1</td>\n",
       "      <td>16</td>\n",
       "      <td>3</td>\n",
       "      <td>OH</td>\n",
       "      <td>5572</td>\n",
       "      <td>544</td>\n",
       "    </tr>\n",
       "    <tr>\n",
       "      <th>160692</th>\n",
       "      <td>2008</td>\n",
       "      <td>1</td>\n",
       "      <td>17</td>\n",
       "      <td>4</td>\n",
       "      <td>OH</td>\n",
       "      <td>5572</td>\n",
       "      <td>544</td>\n",
       "    </tr>\n",
       "    <tr>\n",
       "      <th>161355</th>\n",
       "      <td>2008</td>\n",
       "      <td>1</td>\n",
       "      <td>18</td>\n",
       "      <td>5</td>\n",
       "      <td>OH</td>\n",
       "      <td>5572</td>\n",
       "      <td>544</td>\n",
       "    </tr>\n",
       "    <tr>\n",
       "      <th>161828</th>\n",
       "      <td>2008</td>\n",
       "      <td>1</td>\n",
       "      <td>19</td>\n",
       "      <td>6</td>\n",
       "      <td>OH</td>\n",
       "      <td>5572</td>\n",
       "      <td>544</td>\n",
       "    </tr>\n",
       "    <tr>\n",
       "      <th>162361</th>\n",
       "      <td>2008</td>\n",
       "      <td>1</td>\n",
       "      <td>20</td>\n",
       "      <td>7</td>\n",
       "      <td>OH</td>\n",
       "      <td>5572</td>\n",
       "      <td>544</td>\n",
       "    </tr>\n",
       "    <tr>\n",
       "      <th>163012</th>\n",
       "      <td>2008</td>\n",
       "      <td>1</td>\n",
       "      <td>21</td>\n",
       "      <td>1</td>\n",
       "      <td>OH</td>\n",
       "      <td>5572</td>\n",
       "      <td>544</td>\n",
       "    </tr>\n",
       "    <tr>\n",
       "      <th>163585</th>\n",
       "      <td>2008</td>\n",
       "      <td>1</td>\n",
       "      <td>22</td>\n",
       "      <td>2</td>\n",
       "      <td>OH</td>\n",
       "      <td>5572</td>\n",
       "      <td>544</td>\n",
       "    </tr>\n",
       "    <tr>\n",
       "      <th>164222</th>\n",
       "      <td>2008</td>\n",
       "      <td>1</td>\n",
       "      <td>23</td>\n",
       "      <td>3</td>\n",
       "      <td>OH</td>\n",
       "      <td>5572</td>\n",
       "      <td>544</td>\n",
       "    </tr>\n",
       "    <tr>\n",
       "      <th>164885</th>\n",
       "      <td>2008</td>\n",
       "      <td>1</td>\n",
       "      <td>24</td>\n",
       "      <td>4</td>\n",
       "      <td>OH</td>\n",
       "      <td>5572</td>\n",
       "      <td>544</td>\n",
       "    </tr>\n",
       "    <tr>\n",
       "      <th>165549</th>\n",
       "      <td>2008</td>\n",
       "      <td>1</td>\n",
       "      <td>25</td>\n",
       "      <td>5</td>\n",
       "      <td>OH</td>\n",
       "      <td>5572</td>\n",
       "      <td>544</td>\n",
       "    </tr>\n",
       "    <tr>\n",
       "      <th>166024</th>\n",
       "      <td>2008</td>\n",
       "      <td>1</td>\n",
       "      <td>26</td>\n",
       "      <td>6</td>\n",
       "      <td>OH</td>\n",
       "      <td>5572</td>\n",
       "      <td>544</td>\n",
       "    </tr>\n",
       "    <tr>\n",
       "      <th>166572</th>\n",
       "      <td>2008</td>\n",
       "      <td>1</td>\n",
       "      <td>27</td>\n",
       "      <td>7</td>\n",
       "      <td>OH</td>\n",
       "      <td>5572</td>\n",
       "      <td>544</td>\n",
       "    </tr>\n",
       "    <tr>\n",
       "      <th>167222</th>\n",
       "      <td>2008</td>\n",
       "      <td>1</td>\n",
       "      <td>28</td>\n",
       "      <td>1</td>\n",
       "      <td>OH</td>\n",
       "      <td>5572</td>\n",
       "      <td>544</td>\n",
       "    </tr>\n",
       "    <tr>\n",
       "      <th>167795</th>\n",
       "      <td>2008</td>\n",
       "      <td>1</td>\n",
       "      <td>29</td>\n",
       "      <td>2</td>\n",
       "      <td>OH</td>\n",
       "      <td>5572</td>\n",
       "      <td>544</td>\n",
       "    </tr>\n",
       "    <tr>\n",
       "      <th>168432</th>\n",
       "      <td>2008</td>\n",
       "      <td>1</td>\n",
       "      <td>30</td>\n",
       "      <td>3</td>\n",
       "      <td>OH</td>\n",
       "      <td>5572</td>\n",
       "      <td>544</td>\n",
       "    </tr>\n",
       "    <tr>\n",
       "      <th>169083</th>\n",
       "      <td>2008</td>\n",
       "      <td>1</td>\n",
       "      <td>31</td>\n",
       "      <td>4</td>\n",
       "      <td>OH</td>\n",
       "      <td>5572</td>\n",
       "      <td>544</td>\n",
       "    </tr>\n",
       "    <tr>\n",
       "      <th>...</th>\n",
       "      <td>...</td>\n",
       "      <td>...</td>\n",
       "      <td>...</td>\n",
       "      <td>...</td>\n",
       "      <td>...</td>\n",
       "      <td>...</td>\n",
       "      <td>...</td>\n",
       "    </tr>\n",
       "    <tr>\n",
       "      <th>4388109</th>\n",
       "      <td>2008</td>\n",
       "      <td>8</td>\n",
       "      <td>3</td>\n",
       "      <td>7</td>\n",
       "      <td>OH</td>\n",
       "      <td>5572</td>\n",
       "      <td>544</td>\n",
       "    </tr>\n",
       "    <tr>\n",
       "      <th>4388724</th>\n",
       "      <td>2008</td>\n",
       "      <td>8</td>\n",
       "      <td>4</td>\n",
       "      <td>1</td>\n",
       "      <td>OH</td>\n",
       "      <td>5572</td>\n",
       "      <td>544</td>\n",
       "    </tr>\n",
       "    <tr>\n",
       "      <th>4389314</th>\n",
       "      <td>2008</td>\n",
       "      <td>8</td>\n",
       "      <td>5</td>\n",
       "      <td>2</td>\n",
       "      <td>OH</td>\n",
       "      <td>5572</td>\n",
       "      <td>544</td>\n",
       "    </tr>\n",
       "    <tr>\n",
       "      <th>4389938</th>\n",
       "      <td>2008</td>\n",
       "      <td>8</td>\n",
       "      <td>6</td>\n",
       "      <td>3</td>\n",
       "      <td>OH</td>\n",
       "      <td>5572</td>\n",
       "      <td>544</td>\n",
       "    </tr>\n",
       "    <tr>\n",
       "      <th>4390571</th>\n",
       "      <td>2008</td>\n",
       "      <td>8</td>\n",
       "      <td>7</td>\n",
       "      <td>4</td>\n",
       "      <td>OH</td>\n",
       "      <td>5572</td>\n",
       "      <td>544</td>\n",
       "    </tr>\n",
       "    <tr>\n",
       "      <th>4391200</th>\n",
       "      <td>2008</td>\n",
       "      <td>8</td>\n",
       "      <td>8</td>\n",
       "      <td>5</td>\n",
       "      <td>OH</td>\n",
       "      <td>5572</td>\n",
       "      <td>544</td>\n",
       "    </tr>\n",
       "    <tr>\n",
       "      <th>4391679</th>\n",
       "      <td>2008</td>\n",
       "      <td>8</td>\n",
       "      <td>9</td>\n",
       "      <td>6</td>\n",
       "      <td>OH</td>\n",
       "      <td>5572</td>\n",
       "      <td>544</td>\n",
       "    </tr>\n",
       "    <tr>\n",
       "      <th>4392214</th>\n",
       "      <td>2008</td>\n",
       "      <td>8</td>\n",
       "      <td>10</td>\n",
       "      <td>7</td>\n",
       "      <td>OH</td>\n",
       "      <td>5572</td>\n",
       "      <td>544</td>\n",
       "    </tr>\n",
       "    <tr>\n",
       "      <th>4392215</th>\n",
       "      <td>2008</td>\n",
       "      <td>8</td>\n",
       "      <td>10</td>\n",
       "      <td>7</td>\n",
       "      <td>OH</td>\n",
       "      <td>5572</td>\n",
       "      <td>11</td>\n",
       "    </tr>\n",
       "    <tr>\n",
       "      <th>4392834</th>\n",
       "      <td>2008</td>\n",
       "      <td>8</td>\n",
       "      <td>11</td>\n",
       "      <td>1</td>\n",
       "      <td>OH</td>\n",
       "      <td>5572</td>\n",
       "      <td>544</td>\n",
       "    </tr>\n",
       "    <tr>\n",
       "      <th>4393421</th>\n",
       "      <td>2008</td>\n",
       "      <td>8</td>\n",
       "      <td>12</td>\n",
       "      <td>2</td>\n",
       "      <td>OH</td>\n",
       "      <td>5572</td>\n",
       "      <td>544</td>\n",
       "    </tr>\n",
       "    <tr>\n",
       "      <th>4394045</th>\n",
       "      <td>2008</td>\n",
       "      <td>8</td>\n",
       "      <td>13</td>\n",
       "      <td>3</td>\n",
       "      <td>OH</td>\n",
       "      <td>5572</td>\n",
       "      <td>544</td>\n",
       "    </tr>\n",
       "    <tr>\n",
       "      <th>4394677</th>\n",
       "      <td>2008</td>\n",
       "      <td>8</td>\n",
       "      <td>14</td>\n",
       "      <td>4</td>\n",
       "      <td>OH</td>\n",
       "      <td>5572</td>\n",
       "      <td>544</td>\n",
       "    </tr>\n",
       "    <tr>\n",
       "      <th>4395309</th>\n",
       "      <td>2008</td>\n",
       "      <td>8</td>\n",
       "      <td>15</td>\n",
       "      <td>5</td>\n",
       "      <td>OH</td>\n",
       "      <td>5572</td>\n",
       "      <td>544</td>\n",
       "    </tr>\n",
       "    <tr>\n",
       "      <th>4395786</th>\n",
       "      <td>2008</td>\n",
       "      <td>8</td>\n",
       "      <td>16</td>\n",
       "      <td>6</td>\n",
       "      <td>OH</td>\n",
       "      <td>5572</td>\n",
       "      <td>544</td>\n",
       "    </tr>\n",
       "    <tr>\n",
       "      <th>4396327</th>\n",
       "      <td>2008</td>\n",
       "      <td>8</td>\n",
       "      <td>17</td>\n",
       "      <td>7</td>\n",
       "      <td>OH</td>\n",
       "      <td>5572</td>\n",
       "      <td>544</td>\n",
       "    </tr>\n",
       "    <tr>\n",
       "      <th>4396949</th>\n",
       "      <td>2008</td>\n",
       "      <td>8</td>\n",
       "      <td>18</td>\n",
       "      <td>1</td>\n",
       "      <td>OH</td>\n",
       "      <td>5572</td>\n",
       "      <td>544</td>\n",
       "    </tr>\n",
       "    <tr>\n",
       "      <th>4397462</th>\n",
       "      <td>2008</td>\n",
       "      <td>8</td>\n",
       "      <td>19</td>\n",
       "      <td>2</td>\n",
       "      <td>OH</td>\n",
       "      <td>5572</td>\n",
       "      <td>544</td>\n",
       "    </tr>\n",
       "    <tr>\n",
       "      <th>4398047</th>\n",
       "      <td>2008</td>\n",
       "      <td>8</td>\n",
       "      <td>20</td>\n",
       "      <td>3</td>\n",
       "      <td>OH</td>\n",
       "      <td>5572</td>\n",
       "      <td>544</td>\n",
       "    </tr>\n",
       "    <tr>\n",
       "      <th>4398666</th>\n",
       "      <td>2008</td>\n",
       "      <td>8</td>\n",
       "      <td>21</td>\n",
       "      <td>4</td>\n",
       "      <td>OH</td>\n",
       "      <td>5572</td>\n",
       "      <td>544</td>\n",
       "    </tr>\n",
       "    <tr>\n",
       "      <th>4399286</th>\n",
       "      <td>2008</td>\n",
       "      <td>8</td>\n",
       "      <td>22</td>\n",
       "      <td>5</td>\n",
       "      <td>OH</td>\n",
       "      <td>5572</td>\n",
       "      <td>544</td>\n",
       "    </tr>\n",
       "    <tr>\n",
       "      <th>4399765</th>\n",
       "      <td>2008</td>\n",
       "      <td>8</td>\n",
       "      <td>23</td>\n",
       "      <td>6</td>\n",
       "      <td>OH</td>\n",
       "      <td>5572</td>\n",
       "      <td>544</td>\n",
       "    </tr>\n",
       "    <tr>\n",
       "      <th>4400283</th>\n",
       "      <td>2008</td>\n",
       "      <td>8</td>\n",
       "      <td>24</td>\n",
       "      <td>7</td>\n",
       "      <td>OH</td>\n",
       "      <td>5572</td>\n",
       "      <td>544</td>\n",
       "    </tr>\n",
       "    <tr>\n",
       "      <th>4400886</th>\n",
       "      <td>2008</td>\n",
       "      <td>8</td>\n",
       "      <td>25</td>\n",
       "      <td>1</td>\n",
       "      <td>OH</td>\n",
       "      <td>5572</td>\n",
       "      <td>544</td>\n",
       "    </tr>\n",
       "    <tr>\n",
       "      <th>4401407</th>\n",
       "      <td>2008</td>\n",
       "      <td>8</td>\n",
       "      <td>26</td>\n",
       "      <td>2</td>\n",
       "      <td>OH</td>\n",
       "      <td>5572</td>\n",
       "      <td>544</td>\n",
       "    </tr>\n",
       "    <tr>\n",
       "      <th>4401991</th>\n",
       "      <td>2008</td>\n",
       "      <td>8</td>\n",
       "      <td>27</td>\n",
       "      <td>3</td>\n",
       "      <td>OH</td>\n",
       "      <td>5572</td>\n",
       "      <td>544</td>\n",
       "    </tr>\n",
       "    <tr>\n",
       "      <th>4402609</th>\n",
       "      <td>2008</td>\n",
       "      <td>8</td>\n",
       "      <td>28</td>\n",
       "      <td>4</td>\n",
       "      <td>OH</td>\n",
       "      <td>5572</td>\n",
       "      <td>544</td>\n",
       "    </tr>\n",
       "    <tr>\n",
       "      <th>4403228</th>\n",
       "      <td>2008</td>\n",
       "      <td>8</td>\n",
       "      <td>29</td>\n",
       "      <td>5</td>\n",
       "      <td>OH</td>\n",
       "      <td>5572</td>\n",
       "      <td>544</td>\n",
       "    </tr>\n",
       "    <tr>\n",
       "      <th>4403692</th>\n",
       "      <td>2008</td>\n",
       "      <td>8</td>\n",
       "      <td>30</td>\n",
       "      <td>6</td>\n",
       "      <td>OH</td>\n",
       "      <td>5572</td>\n",
       "      <td>544</td>\n",
       "    </tr>\n",
       "    <tr>\n",
       "      <th>4404087</th>\n",
       "      <td>2008</td>\n",
       "      <td>8</td>\n",
       "      <td>31</td>\n",
       "      <td>7</td>\n",
       "      <td>OH</td>\n",
       "      <td>5572</td>\n",
       "      <td>544</td>\n",
       "    </tr>\n",
       "  </tbody>\n",
       "</table>\n",
       "<p>244 rows × 7 columns</p>\n",
       "</div>"
      ],
      "text/plain": [
       "         Year  Month  DayofMonth  DayOfWeek UniqueCarrier  FlightNum  Distance\n",
       "151629   2008      1           2          3            OH       5572       544\n",
       "152291   2008      1           3          4            OH       5572       544\n",
       "152949   2008      1           4          5            OH       5572       544\n",
       "153419   2008      1           5          6            OH       5572       544\n",
       "153963   2008      1           6          7            OH       5572       544\n",
       "154611   2008      1           7          1            OH       5572       544\n",
       "155185   2008      1           8          2            OH       5572       544\n",
       "155823   2008      1           9          3            OH       5572       544\n",
       "156485   2008      1          10          4            OH       5572       544\n",
       "157148   2008      1          11          5            OH       5572       544\n",
       "157622   2008      1          12          6            OH       5572       544\n",
       "158169   2008      1          13          7            OH       5572       544\n",
       "158819   2008      1          14          1            OH       5572       544\n",
       "159392   2008      1          15          2            OH       5572       544\n",
       "160029   2008      1          16          3            OH       5572       544\n",
       "160692   2008      1          17          4            OH       5572       544\n",
       "161355   2008      1          18          5            OH       5572       544\n",
       "161828   2008      1          19          6            OH       5572       544\n",
       "162361   2008      1          20          7            OH       5572       544\n",
       "163012   2008      1          21          1            OH       5572       544\n",
       "163585   2008      1          22          2            OH       5572       544\n",
       "164222   2008      1          23          3            OH       5572       544\n",
       "164885   2008      1          24          4            OH       5572       544\n",
       "165549   2008      1          25          5            OH       5572       544\n",
       "166024   2008      1          26          6            OH       5572       544\n",
       "166572   2008      1          27          7            OH       5572       544\n",
       "167222   2008      1          28          1            OH       5572       544\n",
       "167795   2008      1          29          2            OH       5572       544\n",
       "168432   2008      1          30          3            OH       5572       544\n",
       "169083   2008      1          31          4            OH       5572       544\n",
       "...       ...    ...         ...        ...           ...        ...       ...\n",
       "4388109  2008      8           3          7            OH       5572       544\n",
       "4388724  2008      8           4          1            OH       5572       544\n",
       "4389314  2008      8           5          2            OH       5572       544\n",
       "4389938  2008      8           6          3            OH       5572       544\n",
       "4390571  2008      8           7          4            OH       5572       544\n",
       "4391200  2008      8           8          5            OH       5572       544\n",
       "4391679  2008      8           9          6            OH       5572       544\n",
       "4392214  2008      8          10          7            OH       5572       544\n",
       "4392215  2008      8          10          7            OH       5572        11\n",
       "4392834  2008      8          11          1            OH       5572       544\n",
       "4393421  2008      8          12          2            OH       5572       544\n",
       "4394045  2008      8          13          3            OH       5572       544\n",
       "4394677  2008      8          14          4            OH       5572       544\n",
       "4395309  2008      8          15          5            OH       5572       544\n",
       "4395786  2008      8          16          6            OH       5572       544\n",
       "4396327  2008      8          17          7            OH       5572       544\n",
       "4396949  2008      8          18          1            OH       5572       544\n",
       "4397462  2008      8          19          2            OH       5572       544\n",
       "4398047  2008      8          20          3            OH       5572       544\n",
       "4398666  2008      8          21          4            OH       5572       544\n",
       "4399286  2008      8          22          5            OH       5572       544\n",
       "4399765  2008      8          23          6            OH       5572       544\n",
       "4400283  2008      8          24          7            OH       5572       544\n",
       "4400886  2008      8          25          1            OH       5572       544\n",
       "4401407  2008      8          26          2            OH       5572       544\n",
       "4401991  2008      8          27          3            OH       5572       544\n",
       "4402609  2008      8          28          4            OH       5572       544\n",
       "4403228  2008      8          29          5            OH       5572       544\n",
       "4403692  2008      8          30          6            OH       5572       544\n",
       "4404087  2008      8          31          7            OH       5572       544\n",
       "\n",
       "[244 rows x 7 columns]"
      ]
     },
     "execution_count": 11,
     "metadata": {},
     "output_type": "execute_result"
    }
   ],
   "source": [
    "y = data[(data.UniqueCarrier == 'OH') & (data.FlightNum == 5572)]\n",
    "y[[0, 1, 2, 3, 8, 9, 18]]"
   ]
  },
  {
   "cell_type": "code",
   "execution_count": 12,
   "metadata": {
    "collapsed": false
   },
   "outputs": [
    {
     "data": {
      "text/plain": [
       "544    243\n",
       "11       1\n",
       "dtype: int64"
      ]
     },
     "execution_count": 12,
     "metadata": {},
     "output_type": "execute_result"
    }
   ],
   "source": [
    "y.Distance.value_counts()"
   ]
  },
  {
   "cell_type": "markdown",
   "metadata": {},
   "source": [
    "#### 3. Дистанция кратчайшего полёта дейтсвительно выглядит подозрительно (11 миль). \n",
    "#### Рейсы, которые совершили полёт на такую дистаницию, в остальные дни проходили существенно другое расстояние.\n",
    "#### Видимо дистанция 11 миль появилась в данных в результате ошибки."
   ]
  },
  {
   "cell_type": "code",
   "execution_count": 13,
   "metadata": {
    "collapsed": false
   },
   "outputs": [
    {
     "data": {
      "text/plain": [
       "'ATL'"
      ]
     },
     "execution_count": 13,
     "metadata": {},
     "output_type": "execute_result"
    }
   ],
   "source": [
    "data.Origin.value_counts().argmax()"
   ]
  },
  {
   "cell_type": "markdown",
   "metadata": {},
   "source": [
    "#### 4. Аэропорт William B Hartsfield-Atlanta Intl, город Atlanta"
   ]
  },
  {
   "cell_type": "code",
   "execution_count": 14,
   "metadata": {
    "collapsed": false
   },
   "outputs": [
    {
     "data": {
      "text/plain": [
       "'SJU'"
      ]
     },
     "execution_count": 14,
     "metadata": {},
     "output_type": "execute_result"
    }
   ],
   "source": [
    "g = data.groupby('Origin')\n",
    "g.AirTime.mean().argmax()"
   ]
  },
  {
   "cell_type": "markdown",
   "metadata": {
    "collapsed": true
   },
   "source": [
    "#### 5. Аэропорт Luis Munoz Marin International, город San Juan"
   ]
  },
  {
   "cell_type": "code",
   "execution_count": 15,
   "metadata": {
    "collapsed": false
   },
   "outputs": [
    {
     "data": {
      "text/plain": [
       "Origin\n",
       "ABE      4807\n",
       "ABI      2660\n",
       "ABQ     41146\n",
       "ABY      1095\n",
       "ACK       457\n",
       "ACT      1993\n",
       "ACV      3714\n",
       "ACY       116\n",
       "ADK       102\n",
       "ADQ       706\n",
       "AEX      2330\n",
       "AGS      2403\n",
       "AKN       116\n",
       "ALB     13474\n",
       "ALO       323\n",
       "AMA      7496\n",
       "ANC     19327\n",
       "ASE      5307\n",
       "ATL    414513\n",
       "ATW      5873\n",
       "AUS     49623\n",
       "AVL      4399\n",
       "AVP      2386\n",
       "AZO      3924\n",
       "BDL     29449\n",
       "BET      1035\n",
       "BFL      4502\n",
       "BGM       728\n",
       "BGR      2879\n",
       "BHM     23679\n",
       "        ...  \n",
       "SPS      1834\n",
       "SRQ      6432\n",
       "STL     62733\n",
       "STT      2972\n",
       "STX       436\n",
       "SUN      2871\n",
       "SUX       122\n",
       "SWF      4249\n",
       "SYR     12032\n",
       "TEX       194\n",
       "TLH      5912\n",
       "TOL      1478\n",
       "TPA     78179\n",
       "TRI      2117\n",
       "TUL     23459\n",
       "TUP        10\n",
       "TUS     26661\n",
       "TVC      4262\n",
       "TWF      1813\n",
       "TXK      1250\n",
       "TYR      1585\n",
       "TYS     14004\n",
       "VLD       938\n",
       "VPS      6820\n",
       "WRG       727\n",
       "WYS       264\n",
       "XNA     14112\n",
       "YAK       725\n",
       "YKM       340\n",
       "YUM      3871\n",
       "dtype: int64"
      ]
     },
     "execution_count": 15,
     "metadata": {},
     "output_type": "execute_result"
    }
   ],
   "source": [
    "g.size()"
   ]
  },
  {
   "cell_type": "code",
   "execution_count": 16,
   "metadata": {
    "collapsed": false
   },
   "outputs": [],
   "source": [
    "h = g.filter(lambda x: len(x) >= 1000)"
   ]
  },
  {
   "cell_type": "code",
   "execution_count": 23,
   "metadata": {
    "collapsed": false
   },
   "outputs": [
    {
     "name": "stdout",
     "output_type": "stream",
     "text": [
      "(7009728, 6978440)\n"
     ]
    }
   ],
   "source": [
    "print(len(data), len(h))"
   ]
  },
  {
   "cell_type": "code",
   "execution_count": 25,
   "metadata": {
    "collapsed": false
   },
   "outputs": [],
   "source": [
    "z = h[h.DepDelay > 0]"
   ]
  },
  {
   "cell_type": "code",
   "execution_count": 30,
   "metadata": {
    "collapsed": false
   },
   "outputs": [
    {
     "data": {
      "text/plain": [
       "ATL    175017\n",
       "ORD    159427\n",
       "DFW    127749\n",
       "DEN    104414\n",
       "LAX     87258\n",
       "IAH     87139\n",
       "PHX     82915\n",
       "LAS     76240\n",
       "EWR     69612\n",
       "DTW     59837\n",
       "SFO     58200\n",
       "MCO     51364\n",
       "CLT     48936\n",
       "BWI     46748\n",
       "SEA     46162\n",
       "MSP     44958\n",
       "SLC     44669\n",
       "MDW     44426\n",
       "JFK     43904\n",
       "PHL     42583\n",
       "LGA     38484\n",
       "BOS     37570\n",
       "SAN     37312\n",
       "DAL     31205\n",
       "MIA     30263\n",
       "HOU     30199\n",
       "CVG     29465\n",
       "IAD     29417\n",
       "OAK     29189\n",
       "TPA     28880\n",
       "        ...  \n",
       "TOL       434\n",
       "OTZ       433\n",
       "DLH       432\n",
       "OME       425\n",
       "HLN       423\n",
       "TRI       415\n",
       "SPI       410\n",
       "GTF       399\n",
       "SPS       389\n",
       "SMX       382\n",
       "GCC       380\n",
       "ABY       379\n",
       "DBQ       374\n",
       "BRO       342\n",
       "OAJ       340\n",
       "TYR       329\n",
       "SJT       322\n",
       "CLL       318\n",
       "TWF       316\n",
       "EKO       311\n",
       "ERI       298\n",
       "TXK       272\n",
       "FLG       249\n",
       "GFK       243\n",
       "LCH       225\n",
       "OXR       224\n",
       "ELM       213\n",
       "MOT       175\n",
       "PIH       166\n",
       "COD       161\n",
       "dtype: int64"
      ]
     },
     "execution_count": 30,
     "metadata": {},
     "output_type": "execute_result"
    }
   ],
   "source": [
    "z.Origin.value_counts()"
   ]
  },
  {
   "cell_type": "code",
   "execution_count": 31,
   "metadata": {
    "collapsed": false
   },
   "outputs": [
    {
     "data": {
      "text/plain": [
       "ATL    414513\n",
       "ORD    350380\n",
       "DFW    281281\n",
       "DEN    241443\n",
       "LAX    215608\n",
       "PHX    199408\n",
       "IAH    185172\n",
       "LAS    172876\n",
       "DTW    161989\n",
       "SFO    140587\n",
       "SLC    139088\n",
       "EWR    138506\n",
       "MCO    130872\n",
       "MSP    130289\n",
       "CLT    126045\n",
       "LGA    119135\n",
       "JFK    118804\n",
       "BOS    117915\n",
       "SEA    109069\n",
       "BWI    104074\n",
       "PHL    100499\n",
       "SAN     93775\n",
       "CVG     91265\n",
       "MDW     87619\n",
       "DCA     86662\n",
       "MEM     80966\n",
       "TPA     78179\n",
       "IAD     76031\n",
       "FLL     67177\n",
       "CLE     65795\n",
       "        ...  \n",
       "PIH      1659\n",
       "TYR      1585\n",
       "EKO      1580\n",
       "BQN      1519\n",
       "CSG      1481\n",
       "TOL      1478\n",
       "BRO      1464\n",
       "ERI      1399\n",
       "DHN      1397\n",
       "CIC      1392\n",
       "GFK      1371\n",
       "CLL      1367\n",
       "DBQ      1349\n",
       "ELM      1336\n",
       "SIT      1332\n",
       "SJT      1316\n",
       "OXR      1292\n",
       "TXK      1250\n",
       "SPI      1225\n",
       "COD      1188\n",
       "OAJ      1184\n",
       "ABY      1095\n",
       "OME      1090\n",
       "OTZ      1086\n",
       "MOT      1085\n",
       "CEC      1063\n",
       "GCC      1046\n",
       "BET      1035\n",
       "EYW      1009\n",
       "LCH      1000\n",
       "dtype: int64"
      ]
     },
     "execution_count": 31,
     "metadata": {},
     "output_type": "execute_result"
    }
   ],
   "source": [
    "h.Origin.value_counts()"
   ]
  },
  {
   "cell_type": "code",
   "execution_count": 34,
   "metadata": {
    "collapsed": false
   },
   "outputs": [],
   "source": [
    "v = z.Origin.value_counts() / h.Origin.value_counts()"
   ]
  },
  {
   "cell_type": "code",
   "execution_count": 35,
   "metadata": {
    "collapsed": false
   },
   "outputs": [
    {
     "data": {
      "text/plain": [
       "'DAL'"
      ]
     },
     "execution_count": 35,
     "metadata": {},
     "output_type": "execute_result"
    }
   ],
   "source": [
    "v.argmax()"
   ]
  },
  {
   "cell_type": "markdown",
   "metadata": {},
   "source": [
    "#### 6. Аэропорт Dallas Love, город Dallas"
   ]
  },
  {
   "cell_type": "code",
   "execution_count": null,
   "metadata": {
    "collapsed": true
   },
   "outputs": [],
   "source": []
  }
 ],
 "metadata": {
  "kernelspec": {
   "display_name": "Python 2",
   "language": "python",
   "name": "python2"
  },
  "language_info": {
   "codemirror_mode": {
    "name": "ipython",
    "version": 2
   },
   "file_extension": ".py",
   "mimetype": "text/x-python",
   "name": "python",
   "nbconvert_exporter": "python",
   "pygments_lexer": "ipython2",
   "version": "2.7.9"
  }
 },
 "nbformat": 4,
 "nbformat_minor": 0
}
